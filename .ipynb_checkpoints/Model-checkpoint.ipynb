{
 "cells": [
  {
   "cell_type": "code",
   "execution_count": 3,
   "metadata": {},
   "outputs": [],
   "source": [
    "import pandas as pd\n",
    "import numpy as np\n",
    "import seaborn as sns \n",
    "import matplotlib.pyplot as plt\n",
    "%matplotlib inline "
   ]
  },
  {
   "cell_type": "code",
   "execution_count": 4,
   "metadata": {},
   "outputs": [
    {
     "data": {
      "text/html": [
       "<div>\n",
       "<style scoped>\n",
       "    .dataframe tbody tr th:only-of-type {\n",
       "        vertical-align: middle;\n",
       "    }\n",
       "\n",
       "    .dataframe tbody tr th {\n",
       "        vertical-align: top;\n",
       "    }\n",
       "\n",
       "    .dataframe thead th {\n",
       "        text-align: right;\n",
       "    }\n",
       "</style>\n",
       "<table border=\"1\" class=\"dataframe\">\n",
       "  <thead>\n",
       "    <tr style=\"text-align: right;\">\n",
       "      <th></th>\n",
       "      <th>Unnamed: 0</th>\n",
       "      <th>Unnamed: 0.1</th>\n",
       "      <th>name</th>\n",
       "      <th>headline</th>\n",
       "      <th>followers</th>\n",
       "      <th>about</th>\n",
       "      <th>time_spent</th>\n",
       "      <th>content</th>\n",
       "      <th>content_links</th>\n",
       "      <th>media_urls</th>\n",
       "      <th>...</th>\n",
       "      <th>poll</th>\n",
       "      <th>text</th>\n",
       "      <th>video</th>\n",
       "      <th>achievement</th>\n",
       "      <th>call to action</th>\n",
       "      <th>info.1</th>\n",
       "      <th>insights</th>\n",
       "      <th>job opening</th>\n",
       "      <th>other</th>\n",
       "      <th>conf2</th>\n",
       "    </tr>\n",
       "  </thead>\n",
       "  <tbody>\n",
       "    <tr>\n",
       "      <th>0</th>\n",
       "      <td>30197</td>\n",
       "      <td>30197</td>\n",
       "      <td>Mohamed El-Erian</td>\n",
       "      <td>President at Queens'​ College, Cambridge</td>\n",
       "      <td>2417012</td>\n",
       "      <td>Dr Mohamed A. El-Erian is President of Queens'...</td>\n",
       "      <td>11 months ago</td>\n",
       "      <td>Add \"and what comes post crisis\" and you have ...</td>\n",
       "      <td>[['https://www.linkedin.com/feed/hashtag/?keyw...</td>\n",
       "      <td>['https://media-exp1.licdn.com/dms/image/C4E22...</td>\n",
       "      <td>...</td>\n",
       "      <td>0</td>\n",
       "      <td>0</td>\n",
       "      <td>0</td>\n",
       "      <td>0</td>\n",
       "      <td>0</td>\n",
       "      <td>0</td>\n",
       "      <td>1</td>\n",
       "      <td>0</td>\n",
       "      <td>0</td>\n",
       "      <td>0.283271</td>\n",
       "    </tr>\n",
       "    <tr>\n",
       "      <th>1</th>\n",
       "      <td>30184</td>\n",
       "      <td>30184</td>\n",
       "      <td>Mohamed El-Erian</td>\n",
       "      <td>President at Queens'​ College, Cambridge</td>\n",
       "      <td>2417012</td>\n",
       "      <td>Dr Mohamed A. El-Erian is President of Queens'...</td>\n",
       "      <td>11 months ago</td>\n",
       "      <td>The weekly quick update of my highly simplifie...</td>\n",
       "      <td>[['https://www.linkedin.com/feed/hashtag/?keyw...</td>\n",
       "      <td>['https://media-exp1.licdn.com/dms/image/C4E22...</td>\n",
       "      <td>...</td>\n",
       "      <td>0</td>\n",
       "      <td>0</td>\n",
       "      <td>0</td>\n",
       "      <td>0</td>\n",
       "      <td>0</td>\n",
       "      <td>0</td>\n",
       "      <td>1</td>\n",
       "      <td>0</td>\n",
       "      <td>0</td>\n",
       "      <td>0.299478</td>\n",
       "    </tr>\n",
       "    <tr>\n",
       "      <th>2</th>\n",
       "      <td>46604</td>\n",
       "      <td>46604</td>\n",
       "      <td>Neil Hughes</td>\n",
       "      <td>Providing tailored Compliant Access, Security,...</td>\n",
       "      <td>15241</td>\n",
       "      <td>Experienced Manager with Strong Knowledge of T...</td>\n",
       "      <td>1 day ago</td>\n",
       "      <td>Extend your conventional access control with w...</td>\n",
       "      <td>[['https://lnkd.in/gqBt8k3', 'https://lnkd.in/...</td>\n",
       "      <td>[]</td>\n",
       "      <td>...</td>\n",
       "      <td>0</td>\n",
       "      <td>0</td>\n",
       "      <td>1</td>\n",
       "      <td>1</td>\n",
       "      <td>0</td>\n",
       "      <td>0</td>\n",
       "      <td>0</td>\n",
       "      <td>0</td>\n",
       "      <td>0</td>\n",
       "      <td>0.283739</td>\n",
       "    </tr>\n",
       "    <tr>\n",
       "      <th>3</th>\n",
       "      <td>42531</td>\n",
       "      <td>42531</td>\n",
       "      <td>Vikram Mansharamani</td>\n",
       "      <td>Author, Academic, Advisor; Worth Power 100; Li...</td>\n",
       "      <td>85125</td>\n",
       "      <td>Dr. Vikram Mansharamani is a global trend-watc...</td>\n",
       "      <td>1 month ago</td>\n",
       "      <td>Pleased to share my annual set of predictions ...</td>\n",
       "      <td>[['https://www.linkedin.com/feed/hashtag/?keyw...</td>\n",
       "      <td>['https://www.linkedin.com/pulse/21-global-dev...</td>\n",
       "      <td>...</td>\n",
       "      <td>0</td>\n",
       "      <td>0</td>\n",
       "      <td>0</td>\n",
       "      <td>0</td>\n",
       "      <td>0</td>\n",
       "      <td>0</td>\n",
       "      <td>1</td>\n",
       "      <td>0</td>\n",
       "      <td>0</td>\n",
       "      <td>0.323109</td>\n",
       "    </tr>\n",
       "    <tr>\n",
       "      <th>4</th>\n",
       "      <td>46668</td>\n",
       "      <td>46668</td>\n",
       "      <td>Neil Hughes</td>\n",
       "      <td>Providing tailored Compliant Access, Security,...</td>\n",
       "      <td>15241</td>\n",
       "      <td>Experienced Manager with Strong Knowledge of T...</td>\n",
       "      <td>2 months ago</td>\n",
       "      <td>New Integration of CLIQ® products inside Genet...</td>\n",
       "      <td>[['https://lnkd.in/eE5scT7', 'https://lnkd.in/...</td>\n",
       "      <td>['https://www.abloy.com/en-us/news-and-media4/...</td>\n",
       "      <td>...</td>\n",
       "      <td>0</td>\n",
       "      <td>0</td>\n",
       "      <td>0</td>\n",
       "      <td>0</td>\n",
       "      <td>0</td>\n",
       "      <td>0</td>\n",
       "      <td>1</td>\n",
       "      <td>0</td>\n",
       "      <td>0</td>\n",
       "      <td>0.338060</td>\n",
       "    </tr>\n",
       "    <tr>\n",
       "      <th>...</th>\n",
       "      <td>...</td>\n",
       "      <td>...</td>\n",
       "      <td>...</td>\n",
       "      <td>...</td>\n",
       "      <td>...</td>\n",
       "      <td>...</td>\n",
       "      <td>...</td>\n",
       "      <td>...</td>\n",
       "      <td>...</td>\n",
       "      <td>...</td>\n",
       "      <td>...</td>\n",
       "      <td>...</td>\n",
       "      <td>...</td>\n",
       "      <td>...</td>\n",
       "      <td>...</td>\n",
       "      <td>...</td>\n",
       "      <td>...</td>\n",
       "      <td>...</td>\n",
       "      <td>...</td>\n",
       "      <td>...</td>\n",
       "      <td>...</td>\n",
       "    </tr>\n",
       "    <tr>\n",
       "      <th>54968</th>\n",
       "      <td>55140</td>\n",
       "      <td>55140</td>\n",
       "      <td>Simon Sinek</td>\n",
       "      <td>Optimist and Author at Simon Sinek Inc.</td>\n",
       "      <td>4206024</td>\n",
       "      <td>Simon Sinek is an unshakable optimist who beli...</td>\n",
       "      <td>4 years ago</td>\n",
       "      <td>Igniter of the Year 2016. Well I know that I'm...</td>\n",
       "      <td>[]</td>\n",
       "      <td>['https://media-exp1.licdn.com/dms/image/C5622...</td>\n",
       "      <td>...</td>\n",
       "      <td>0</td>\n",
       "      <td>0</td>\n",
       "      <td>0</td>\n",
       "      <td>1</td>\n",
       "      <td>0</td>\n",
       "      <td>0</td>\n",
       "      <td>0</td>\n",
       "      <td>0</td>\n",
       "      <td>0</td>\n",
       "      <td>0.356085</td>\n",
       "    </tr>\n",
       "    <tr>\n",
       "      <th>54969</th>\n",
       "      <td>55141</td>\n",
       "      <td>55141</td>\n",
       "      <td>Simon Sinek</td>\n",
       "      <td>Optimist and Author at Simon Sinek Inc.</td>\n",
       "      <td>4206024</td>\n",
       "      <td>Simon Sinek is an unshakable optimist who beli...</td>\n",
       "      <td>4 years ago</td>\n",
       "      <td>Executives who prioritize the shareholder are ...</td>\n",
       "      <td>[]</td>\n",
       "      <td>[]</td>\n",
       "      <td>...</td>\n",
       "      <td>0</td>\n",
       "      <td>0</td>\n",
       "      <td>1</td>\n",
       "      <td>0</td>\n",
       "      <td>1</td>\n",
       "      <td>0</td>\n",
       "      <td>0</td>\n",
       "      <td>0</td>\n",
       "      <td>0</td>\n",
       "      <td>0.179531</td>\n",
       "    </tr>\n",
       "    <tr>\n",
       "      <th>54970</th>\n",
       "      <td>55142</td>\n",
       "      <td>55142</td>\n",
       "      <td>Simon Sinek</td>\n",
       "      <td>Optimist and Author at Simon Sinek Inc.</td>\n",
       "      <td>4206024</td>\n",
       "      <td>Simon Sinek is an unshakable optimist who beli...</td>\n",
       "      <td>4 years ago</td>\n",
       "      <td>Like many, I too have been reflecting as we ne...</td>\n",
       "      <td>[]</td>\n",
       "      <td>[]</td>\n",
       "      <td>...</td>\n",
       "      <td>0</td>\n",
       "      <td>0</td>\n",
       "      <td>1</td>\n",
       "      <td>0</td>\n",
       "      <td>0</td>\n",
       "      <td>0</td>\n",
       "      <td>1</td>\n",
       "      <td>0</td>\n",
       "      <td>0</td>\n",
       "      <td>0.290362</td>\n",
       "    </tr>\n",
       "    <tr>\n",
       "      <th>54971</th>\n",
       "      <td>55143</td>\n",
       "      <td>55143</td>\n",
       "      <td>Simon Sinek</td>\n",
       "      <td>Optimist and Author at Simon Sinek Inc.</td>\n",
       "      <td>4206024</td>\n",
       "      <td>Simon Sinek is an unshakable optimist who beli...</td>\n",
       "      <td>4 years ago</td>\n",
       "      <td>If you say \"customer first\" that means your em...</td>\n",
       "      <td>[]</td>\n",
       "      <td>[]</td>\n",
       "      <td>...</td>\n",
       "      <td>0</td>\n",
       "      <td>0</td>\n",
       "      <td>1</td>\n",
       "      <td>0</td>\n",
       "      <td>0</td>\n",
       "      <td>0</td>\n",
       "      <td>0</td>\n",
       "      <td>1</td>\n",
       "      <td>0</td>\n",
       "      <td>0.345141</td>\n",
       "    </tr>\n",
       "    <tr>\n",
       "      <th>54972</th>\n",
       "      <td>55144</td>\n",
       "      <td>55144</td>\n",
       "      <td>Simon Sinek</td>\n",
       "      <td>Optimist and Author at Simon Sinek Inc.</td>\n",
       "      <td>4206024</td>\n",
       "      <td>Simon Sinek is an unshakable optimist who beli...</td>\n",
       "      <td>4 years ago</td>\n",
       "      <td>The small work hard to serve themselves in a b...</td>\n",
       "      <td>[]</td>\n",
       "      <td>[]</td>\n",
       "      <td>...</td>\n",
       "      <td>0</td>\n",
       "      <td>1</td>\n",
       "      <td>0</td>\n",
       "      <td>0</td>\n",
       "      <td>0</td>\n",
       "      <td>0</td>\n",
       "      <td>1</td>\n",
       "      <td>0</td>\n",
       "      <td>0</td>\n",
       "      <td>0.357110</td>\n",
       "    </tr>\n",
       "  </tbody>\n",
       "</table>\n",
       "<p>54973 rows × 36 columns</p>\n",
       "</div>"
      ],
      "text/plain": [
       "       Unnamed: 0  Unnamed: 0.1                 name  \\\n",
       "0           30197         30197     Mohamed El-Erian   \n",
       "1           30184         30184     Mohamed El-Erian   \n",
       "2           46604         46604          Neil Hughes   \n",
       "3           42531         42531  Vikram Mansharamani   \n",
       "4           46668         46668          Neil Hughes   \n",
       "...           ...           ...                  ...   \n",
       "54968       55140         55140          Simon Sinek   \n",
       "54969       55141         55141          Simon Sinek   \n",
       "54970       55142         55142          Simon Sinek   \n",
       "54971       55143         55143          Simon Sinek   \n",
       "54972       55144         55144          Simon Sinek   \n",
       "\n",
       "                                                headline  followers  \\\n",
       "0               President at Queens'​ College, Cambridge    2417012   \n",
       "1               President at Queens'​ College, Cambridge    2417012   \n",
       "2      Providing tailored Compliant Access, Security,...      15241   \n",
       "3      Author, Academic, Advisor; Worth Power 100; Li...      85125   \n",
       "4      Providing tailored Compliant Access, Security,...      15241   \n",
       "...                                                  ...        ...   \n",
       "54968            Optimist and Author at Simon Sinek Inc.    4206024   \n",
       "54969            Optimist and Author at Simon Sinek Inc.    4206024   \n",
       "54970            Optimist and Author at Simon Sinek Inc.    4206024   \n",
       "54971            Optimist and Author at Simon Sinek Inc.    4206024   \n",
       "54972            Optimist and Author at Simon Sinek Inc.    4206024   \n",
       "\n",
       "                                                   about     time_spent  \\\n",
       "0      Dr Mohamed A. El-Erian is President of Queens'...  11 months ago   \n",
       "1      Dr Mohamed A. El-Erian is President of Queens'...  11 months ago   \n",
       "2      Experienced Manager with Strong Knowledge of T...      1 day ago   \n",
       "3      Dr. Vikram Mansharamani is a global trend-watc...    1 month ago   \n",
       "4      Experienced Manager with Strong Knowledge of T...   2 months ago   \n",
       "...                                                  ...            ...   \n",
       "54968  Simon Sinek is an unshakable optimist who beli...    4 years ago   \n",
       "54969  Simon Sinek is an unshakable optimist who beli...    4 years ago   \n",
       "54970  Simon Sinek is an unshakable optimist who beli...    4 years ago   \n",
       "54971  Simon Sinek is an unshakable optimist who beli...    4 years ago   \n",
       "54972  Simon Sinek is an unshakable optimist who beli...    4 years ago   \n",
       "\n",
       "                                                 content  \\\n",
       "0      Add \"and what comes post crisis\" and you have ...   \n",
       "1      The weekly quick update of my highly simplifie...   \n",
       "2      Extend your conventional access control with w...   \n",
       "3      Pleased to share my annual set of predictions ...   \n",
       "4      New Integration of CLIQ® products inside Genet...   \n",
       "...                                                  ...   \n",
       "54968  Igniter of the Year 2016. Well I know that I'm...   \n",
       "54969  Executives who prioritize the shareholder are ...   \n",
       "54970  Like many, I too have been reflecting as we ne...   \n",
       "54971  If you say \"customer first\" that means your em...   \n",
       "54972  The small work hard to serve themselves in a b...   \n",
       "\n",
       "                                           content_links  \\\n",
       "0      [['https://www.linkedin.com/feed/hashtag/?keyw...   \n",
       "1      [['https://www.linkedin.com/feed/hashtag/?keyw...   \n",
       "2      [['https://lnkd.in/gqBt8k3', 'https://lnkd.in/...   \n",
       "3      [['https://www.linkedin.com/feed/hashtag/?keyw...   \n",
       "4      [['https://lnkd.in/eE5scT7', 'https://lnkd.in/...   \n",
       "...                                                  ...   \n",
       "54968                                                 []   \n",
       "54969                                                 []   \n",
       "54970                                                 []   \n",
       "54971                                                 []   \n",
       "54972                                                 []   \n",
       "\n",
       "                                              media_urls  ...  poll  text  \\\n",
       "0      ['https://media-exp1.licdn.com/dms/image/C4E22...  ...     0     0   \n",
       "1      ['https://media-exp1.licdn.com/dms/image/C4E22...  ...     0     0   \n",
       "2                                                     []  ...     0     0   \n",
       "3      ['https://www.linkedin.com/pulse/21-global-dev...  ...     0     0   \n",
       "4      ['https://www.abloy.com/en-us/news-and-media4/...  ...     0     0   \n",
       "...                                                  ...  ...   ...   ...   \n",
       "54968  ['https://media-exp1.licdn.com/dms/image/C5622...  ...     0     0   \n",
       "54969                                                 []  ...     0     0   \n",
       "54970                                                 []  ...     0     0   \n",
       "54971                                                 []  ...     0     0   \n",
       "54972                                                 []  ...     0     1   \n",
       "\n",
       "      video  achievement  call to action  info.1  insights  job opening other  \\\n",
       "0         0            0               0       0         1            0     0   \n",
       "1         0            0               0       0         1            0     0   \n",
       "2         1            1               0       0         0            0     0   \n",
       "3         0            0               0       0         1            0     0   \n",
       "4         0            0               0       0         1            0     0   \n",
       "...     ...          ...             ...     ...       ...          ...   ...   \n",
       "54968     0            1               0       0         0            0     0   \n",
       "54969     1            0               1       0         0            0     0   \n",
       "54970     1            0               0       0         1            0     0   \n",
       "54971     1            0               0       0         0            1     0   \n",
       "54972     0            0               0       0         1            0     0   \n",
       "\n",
       "          conf2  \n",
       "0      0.283271  \n",
       "1      0.299478  \n",
       "2      0.283739  \n",
       "3      0.323109  \n",
       "4      0.338060  \n",
       "...         ...  \n",
       "54968  0.356085  \n",
       "54969  0.179531  \n",
       "54970  0.290362  \n",
       "54971  0.345141  \n",
       "54972  0.357110  \n",
       "\n",
       "[54973 rows x 36 columns]"
      ]
     },
     "execution_count": 4,
     "metadata": {},
     "output_type": "execute_result"
    }
   ],
   "source": [
    "data=pd.read_csv('dataset.csv')#model dataset\n",
    "data "
   ]
  },
  {
   "cell_type": "code",
   "execution_count": 5,
   "metadata": {},
   "outputs": [
    {
     "data": {
      "text/plain": [
       "Unnamed: 0           0\n",
       "Unnamed: 0.1         0\n",
       "name                 0\n",
       "headline             0\n",
       "followers            0\n",
       "about                0\n",
       "time_spent           0\n",
       "content              0\n",
       "content_links        0\n",
       "media_urls           0\n",
       "num_hashtags         0\n",
       "hashtag_followers    0\n",
       "hashtags             0\n",
       "reactions            0\n",
       "comments             0\n",
       "t_factor             0\n",
       "num_links            0\n",
       "contlen              0\n",
       "info                 0\n",
       "relevance_score_2    0\n",
       "relevance_score      0\n",
       "Impressions          0\n",
       "Reach                0\n",
       "article              0\n",
       "document             0\n",
       "image                0\n",
       "poll                 0\n",
       "text                 0\n",
       "video                0\n",
       "achievement          0\n",
       "call to action       0\n",
       "info.1               0\n",
       "insights             0\n",
       "job opening          0\n",
       "other                0\n",
       "conf2                0\n",
       "dtype: int64"
      ]
     },
     "execution_count": 5,
     "metadata": {},
     "output_type": "execute_result"
    }
   ],
   "source": [
    "data.isnull().sum()"
   ]
  },
  {
   "cell_type": "code",
   "execution_count": 6,
   "metadata": {},
   "outputs": [
    {
     "data": {
      "text/html": [
       "<div>\n",
       "<style scoped>\n",
       "    .dataframe tbody tr th:only-of-type {\n",
       "        vertical-align: middle;\n",
       "    }\n",
       "\n",
       "    .dataframe tbody tr th {\n",
       "        vertical-align: top;\n",
       "    }\n",
       "\n",
       "    .dataframe thead th {\n",
       "        text-align: right;\n",
       "    }\n",
       "</style>\n",
       "<table border=\"1\" class=\"dataframe\">\n",
       "  <thead>\n",
       "    <tr style=\"text-align: right;\">\n",
       "      <th></th>\n",
       "      <th>Unnamed: 0</th>\n",
       "      <th>Unnamed: 0.1</th>\n",
       "      <th>name</th>\n",
       "      <th>headline</th>\n",
       "      <th>followers</th>\n",
       "      <th>about</th>\n",
       "      <th>time_spent</th>\n",
       "      <th>content</th>\n",
       "      <th>content_links</th>\n",
       "      <th>media_urls</th>\n",
       "      <th>...</th>\n",
       "      <th>poll</th>\n",
       "      <th>text</th>\n",
       "      <th>video</th>\n",
       "      <th>achievement</th>\n",
       "      <th>call to action</th>\n",
       "      <th>info.1</th>\n",
       "      <th>insights</th>\n",
       "      <th>job opening</th>\n",
       "      <th>other</th>\n",
       "      <th>conf2</th>\n",
       "    </tr>\n",
       "  </thead>\n",
       "  <tbody>\n",
       "    <tr>\n",
       "      <th>0</th>\n",
       "      <td>30197</td>\n",
       "      <td>30197</td>\n",
       "      <td>Mohamed El-Erian</td>\n",
       "      <td>President at Queens'​ College, Cambridge</td>\n",
       "      <td>2417012</td>\n",
       "      <td>Dr Mohamed A. El-Erian is President of Queens'...</td>\n",
       "      <td>11 months ago</td>\n",
       "      <td>Add \"and what comes post crisis\" and you have ...</td>\n",
       "      <td>[['https://www.linkedin.com/feed/hashtag/?keyw...</td>\n",
       "      <td>['https://media-exp1.licdn.com/dms/image/C4E22...</td>\n",
       "      <td>...</td>\n",
       "      <td>0</td>\n",
       "      <td>0</td>\n",
       "      <td>0</td>\n",
       "      <td>0</td>\n",
       "      <td>0</td>\n",
       "      <td>0</td>\n",
       "      <td>1</td>\n",
       "      <td>0</td>\n",
       "      <td>0</td>\n",
       "      <td>0.283271</td>\n",
       "    </tr>\n",
       "    <tr>\n",
       "      <th>1</th>\n",
       "      <td>30184</td>\n",
       "      <td>30184</td>\n",
       "      <td>Mohamed El-Erian</td>\n",
       "      <td>President at Queens'​ College, Cambridge</td>\n",
       "      <td>2417012</td>\n",
       "      <td>Dr Mohamed A. El-Erian is President of Queens'...</td>\n",
       "      <td>11 months ago</td>\n",
       "      <td>The weekly quick update of my highly simplifie...</td>\n",
       "      <td>[['https://www.linkedin.com/feed/hashtag/?keyw...</td>\n",
       "      <td>['https://media-exp1.licdn.com/dms/image/C4E22...</td>\n",
       "      <td>...</td>\n",
       "      <td>0</td>\n",
       "      <td>0</td>\n",
       "      <td>0</td>\n",
       "      <td>0</td>\n",
       "      <td>0</td>\n",
       "      <td>0</td>\n",
       "      <td>1</td>\n",
       "      <td>0</td>\n",
       "      <td>0</td>\n",
       "      <td>0.299478</td>\n",
       "    </tr>\n",
       "    <tr>\n",
       "      <th>2</th>\n",
       "      <td>46604</td>\n",
       "      <td>46604</td>\n",
       "      <td>Neil Hughes</td>\n",
       "      <td>Providing tailored Compliant Access, Security,...</td>\n",
       "      <td>15241</td>\n",
       "      <td>Experienced Manager with Strong Knowledge of T...</td>\n",
       "      <td>1 day ago</td>\n",
       "      <td>Extend your conventional access control with w...</td>\n",
       "      <td>[['https://lnkd.in/gqBt8k3', 'https://lnkd.in/...</td>\n",
       "      <td>[]</td>\n",
       "      <td>...</td>\n",
       "      <td>0</td>\n",
       "      <td>0</td>\n",
       "      <td>1</td>\n",
       "      <td>1</td>\n",
       "      <td>0</td>\n",
       "      <td>0</td>\n",
       "      <td>0</td>\n",
       "      <td>0</td>\n",
       "      <td>0</td>\n",
       "      <td>0.283739</td>\n",
       "    </tr>\n",
       "    <tr>\n",
       "      <th>3</th>\n",
       "      <td>42531</td>\n",
       "      <td>42531</td>\n",
       "      <td>Vikram Mansharamani</td>\n",
       "      <td>Author, Academic, Advisor; Worth Power 100; Li...</td>\n",
       "      <td>85125</td>\n",
       "      <td>Dr. Vikram Mansharamani is a global trend-watc...</td>\n",
       "      <td>1 month ago</td>\n",
       "      <td>Pleased to share my annual set of predictions ...</td>\n",
       "      <td>[['https://www.linkedin.com/feed/hashtag/?keyw...</td>\n",
       "      <td>['https://www.linkedin.com/pulse/21-global-dev...</td>\n",
       "      <td>...</td>\n",
       "      <td>0</td>\n",
       "      <td>0</td>\n",
       "      <td>0</td>\n",
       "      <td>0</td>\n",
       "      <td>0</td>\n",
       "      <td>0</td>\n",
       "      <td>1</td>\n",
       "      <td>0</td>\n",
       "      <td>0</td>\n",
       "      <td>0.323109</td>\n",
       "    </tr>\n",
       "    <tr>\n",
       "      <th>4</th>\n",
       "      <td>46668</td>\n",
       "      <td>46668</td>\n",
       "      <td>Neil Hughes</td>\n",
       "      <td>Providing tailored Compliant Access, Security,...</td>\n",
       "      <td>15241</td>\n",
       "      <td>Experienced Manager with Strong Knowledge of T...</td>\n",
       "      <td>2 months ago</td>\n",
       "      <td>New Integration of CLIQ® products inside Genet...</td>\n",
       "      <td>[['https://lnkd.in/eE5scT7', 'https://lnkd.in/...</td>\n",
       "      <td>['https://www.abloy.com/en-us/news-and-media4/...</td>\n",
       "      <td>...</td>\n",
       "      <td>0</td>\n",
       "      <td>0</td>\n",
       "      <td>0</td>\n",
       "      <td>0</td>\n",
       "      <td>0</td>\n",
       "      <td>0</td>\n",
       "      <td>1</td>\n",
       "      <td>0</td>\n",
       "      <td>0</td>\n",
       "      <td>0.338060</td>\n",
       "    </tr>\n",
       "    <tr>\n",
       "      <th>...</th>\n",
       "      <td>...</td>\n",
       "      <td>...</td>\n",
       "      <td>...</td>\n",
       "      <td>...</td>\n",
       "      <td>...</td>\n",
       "      <td>...</td>\n",
       "      <td>...</td>\n",
       "      <td>...</td>\n",
       "      <td>...</td>\n",
       "      <td>...</td>\n",
       "      <td>...</td>\n",
       "      <td>...</td>\n",
       "      <td>...</td>\n",
       "      <td>...</td>\n",
       "      <td>...</td>\n",
       "      <td>...</td>\n",
       "      <td>...</td>\n",
       "      <td>...</td>\n",
       "      <td>...</td>\n",
       "      <td>...</td>\n",
       "      <td>...</td>\n",
       "    </tr>\n",
       "    <tr>\n",
       "      <th>54968</th>\n",
       "      <td>55140</td>\n",
       "      <td>55140</td>\n",
       "      <td>Simon Sinek</td>\n",
       "      <td>Optimist and Author at Simon Sinek Inc.</td>\n",
       "      <td>4206024</td>\n",
       "      <td>Simon Sinek is an unshakable optimist who beli...</td>\n",
       "      <td>4 years ago</td>\n",
       "      <td>Igniter of the Year 2016. Well I know that I'm...</td>\n",
       "      <td>[]</td>\n",
       "      <td>['https://media-exp1.licdn.com/dms/image/C5622...</td>\n",
       "      <td>...</td>\n",
       "      <td>0</td>\n",
       "      <td>0</td>\n",
       "      <td>0</td>\n",
       "      <td>1</td>\n",
       "      <td>0</td>\n",
       "      <td>0</td>\n",
       "      <td>0</td>\n",
       "      <td>0</td>\n",
       "      <td>0</td>\n",
       "      <td>0.356085</td>\n",
       "    </tr>\n",
       "    <tr>\n",
       "      <th>54969</th>\n",
       "      <td>55141</td>\n",
       "      <td>55141</td>\n",
       "      <td>Simon Sinek</td>\n",
       "      <td>Optimist and Author at Simon Sinek Inc.</td>\n",
       "      <td>4206024</td>\n",
       "      <td>Simon Sinek is an unshakable optimist who beli...</td>\n",
       "      <td>4 years ago</td>\n",
       "      <td>Executives who prioritize the shareholder are ...</td>\n",
       "      <td>[]</td>\n",
       "      <td>[]</td>\n",
       "      <td>...</td>\n",
       "      <td>0</td>\n",
       "      <td>0</td>\n",
       "      <td>1</td>\n",
       "      <td>0</td>\n",
       "      <td>1</td>\n",
       "      <td>0</td>\n",
       "      <td>0</td>\n",
       "      <td>0</td>\n",
       "      <td>0</td>\n",
       "      <td>0.179531</td>\n",
       "    </tr>\n",
       "    <tr>\n",
       "      <th>54970</th>\n",
       "      <td>55142</td>\n",
       "      <td>55142</td>\n",
       "      <td>Simon Sinek</td>\n",
       "      <td>Optimist and Author at Simon Sinek Inc.</td>\n",
       "      <td>4206024</td>\n",
       "      <td>Simon Sinek is an unshakable optimist who beli...</td>\n",
       "      <td>4 years ago</td>\n",
       "      <td>Like many, I too have been reflecting as we ne...</td>\n",
       "      <td>[]</td>\n",
       "      <td>[]</td>\n",
       "      <td>...</td>\n",
       "      <td>0</td>\n",
       "      <td>0</td>\n",
       "      <td>1</td>\n",
       "      <td>0</td>\n",
       "      <td>0</td>\n",
       "      <td>0</td>\n",
       "      <td>1</td>\n",
       "      <td>0</td>\n",
       "      <td>0</td>\n",
       "      <td>0.290362</td>\n",
       "    </tr>\n",
       "    <tr>\n",
       "      <th>54971</th>\n",
       "      <td>55143</td>\n",
       "      <td>55143</td>\n",
       "      <td>Simon Sinek</td>\n",
       "      <td>Optimist and Author at Simon Sinek Inc.</td>\n",
       "      <td>4206024</td>\n",
       "      <td>Simon Sinek is an unshakable optimist who beli...</td>\n",
       "      <td>4 years ago</td>\n",
       "      <td>If you say \"customer first\" that means your em...</td>\n",
       "      <td>[]</td>\n",
       "      <td>[]</td>\n",
       "      <td>...</td>\n",
       "      <td>0</td>\n",
       "      <td>0</td>\n",
       "      <td>1</td>\n",
       "      <td>0</td>\n",
       "      <td>0</td>\n",
       "      <td>0</td>\n",
       "      <td>0</td>\n",
       "      <td>1</td>\n",
       "      <td>0</td>\n",
       "      <td>0.345141</td>\n",
       "    </tr>\n",
       "    <tr>\n",
       "      <th>54972</th>\n",
       "      <td>55144</td>\n",
       "      <td>55144</td>\n",
       "      <td>Simon Sinek</td>\n",
       "      <td>Optimist and Author at Simon Sinek Inc.</td>\n",
       "      <td>4206024</td>\n",
       "      <td>Simon Sinek is an unshakable optimist who beli...</td>\n",
       "      <td>4 years ago</td>\n",
       "      <td>The small work hard to serve themselves in a b...</td>\n",
       "      <td>[]</td>\n",
       "      <td>[]</td>\n",
       "      <td>...</td>\n",
       "      <td>0</td>\n",
       "      <td>1</td>\n",
       "      <td>0</td>\n",
       "      <td>0</td>\n",
       "      <td>0</td>\n",
       "      <td>0</td>\n",
       "      <td>1</td>\n",
       "      <td>0</td>\n",
       "      <td>0</td>\n",
       "      <td>0.357110</td>\n",
       "    </tr>\n",
       "  </tbody>\n",
       "</table>\n",
       "<p>54973 rows × 36 columns</p>\n",
       "</div>"
      ],
      "text/plain": [
       "       Unnamed: 0  Unnamed: 0.1                 name  \\\n",
       "0           30197         30197     Mohamed El-Erian   \n",
       "1           30184         30184     Mohamed El-Erian   \n",
       "2           46604         46604          Neil Hughes   \n",
       "3           42531         42531  Vikram Mansharamani   \n",
       "4           46668         46668          Neil Hughes   \n",
       "...           ...           ...                  ...   \n",
       "54968       55140         55140          Simon Sinek   \n",
       "54969       55141         55141          Simon Sinek   \n",
       "54970       55142         55142          Simon Sinek   \n",
       "54971       55143         55143          Simon Sinek   \n",
       "54972       55144         55144          Simon Sinek   \n",
       "\n",
       "                                                headline  followers  \\\n",
       "0               President at Queens'​ College, Cambridge    2417012   \n",
       "1               President at Queens'​ College, Cambridge    2417012   \n",
       "2      Providing tailored Compliant Access, Security,...      15241   \n",
       "3      Author, Academic, Advisor; Worth Power 100; Li...      85125   \n",
       "4      Providing tailored Compliant Access, Security,...      15241   \n",
       "...                                                  ...        ...   \n",
       "54968            Optimist and Author at Simon Sinek Inc.    4206024   \n",
       "54969            Optimist and Author at Simon Sinek Inc.    4206024   \n",
       "54970            Optimist and Author at Simon Sinek Inc.    4206024   \n",
       "54971            Optimist and Author at Simon Sinek Inc.    4206024   \n",
       "54972            Optimist and Author at Simon Sinek Inc.    4206024   \n",
       "\n",
       "                                                   about     time_spent  \\\n",
       "0      Dr Mohamed A. El-Erian is President of Queens'...  11 months ago   \n",
       "1      Dr Mohamed A. El-Erian is President of Queens'...  11 months ago   \n",
       "2      Experienced Manager with Strong Knowledge of T...      1 day ago   \n",
       "3      Dr. Vikram Mansharamani is a global trend-watc...    1 month ago   \n",
       "4      Experienced Manager with Strong Knowledge of T...   2 months ago   \n",
       "...                                                  ...            ...   \n",
       "54968  Simon Sinek is an unshakable optimist who beli...    4 years ago   \n",
       "54969  Simon Sinek is an unshakable optimist who beli...    4 years ago   \n",
       "54970  Simon Sinek is an unshakable optimist who beli...    4 years ago   \n",
       "54971  Simon Sinek is an unshakable optimist who beli...    4 years ago   \n",
       "54972  Simon Sinek is an unshakable optimist who beli...    4 years ago   \n",
       "\n",
       "                                                 content  \\\n",
       "0      Add \"and what comes post crisis\" and you have ...   \n",
       "1      The weekly quick update of my highly simplifie...   \n",
       "2      Extend your conventional access control with w...   \n",
       "3      Pleased to share my annual set of predictions ...   \n",
       "4      New Integration of CLIQ® products inside Genet...   \n",
       "...                                                  ...   \n",
       "54968  Igniter of the Year 2016. Well I know that I'm...   \n",
       "54969  Executives who prioritize the shareholder are ...   \n",
       "54970  Like many, I too have been reflecting as we ne...   \n",
       "54971  If you say \"customer first\" that means your em...   \n",
       "54972  The small work hard to serve themselves in a b...   \n",
       "\n",
       "                                           content_links  \\\n",
       "0      [['https://www.linkedin.com/feed/hashtag/?keyw...   \n",
       "1      [['https://www.linkedin.com/feed/hashtag/?keyw...   \n",
       "2      [['https://lnkd.in/gqBt8k3', 'https://lnkd.in/...   \n",
       "3      [['https://www.linkedin.com/feed/hashtag/?keyw...   \n",
       "4      [['https://lnkd.in/eE5scT7', 'https://lnkd.in/...   \n",
       "...                                                  ...   \n",
       "54968                                                 []   \n",
       "54969                                                 []   \n",
       "54970                                                 []   \n",
       "54971                                                 []   \n",
       "54972                                                 []   \n",
       "\n",
       "                                              media_urls  ...  poll  text  \\\n",
       "0      ['https://media-exp1.licdn.com/dms/image/C4E22...  ...     0     0   \n",
       "1      ['https://media-exp1.licdn.com/dms/image/C4E22...  ...     0     0   \n",
       "2                                                     []  ...     0     0   \n",
       "3      ['https://www.linkedin.com/pulse/21-global-dev...  ...     0     0   \n",
       "4      ['https://www.abloy.com/en-us/news-and-media4/...  ...     0     0   \n",
       "...                                                  ...  ...   ...   ...   \n",
       "54968  ['https://media-exp1.licdn.com/dms/image/C5622...  ...     0     0   \n",
       "54969                                                 []  ...     0     0   \n",
       "54970                                                 []  ...     0     0   \n",
       "54971                                                 []  ...     0     0   \n",
       "54972                                                 []  ...     0     1   \n",
       "\n",
       "      video  achievement  call to action  info.1  insights  job opening other  \\\n",
       "0         0            0               0       0         1            0     0   \n",
       "1         0            0               0       0         1            0     0   \n",
       "2         1            1               0       0         0            0     0   \n",
       "3         0            0               0       0         1            0     0   \n",
       "4         0            0               0       0         1            0     0   \n",
       "...     ...          ...             ...     ...       ...          ...   ...   \n",
       "54968     0            1               0       0         0            0     0   \n",
       "54969     1            0               1       0         0            0     0   \n",
       "54970     1            0               0       0         1            0     0   \n",
       "54971     1            0               0       0         0            1     0   \n",
       "54972     0            0               0       0         1            0     0   \n",
       "\n",
       "          conf2  \n",
       "0      0.283271  \n",
       "1      0.299478  \n",
       "2      0.283739  \n",
       "3      0.323109  \n",
       "4      0.338060  \n",
       "...         ...  \n",
       "54968  0.356085  \n",
       "54969  0.179531  \n",
       "54970  0.290362  \n",
       "54971  0.345141  \n",
       "54972  0.357110  \n",
       "\n",
       "[54973 rows x 36 columns]"
      ]
     },
     "execution_count": 6,
     "metadata": {},
     "output_type": "execute_result"
    }
   ],
   "source": [
    "data"
   ]
  },
  {
   "cell_type": "code",
   "execution_count": 7,
   "metadata": {},
   "outputs": [],
   "source": [
    "data=data.sample(n = 6000) "
   ]
  },
  {
   "cell_type": "code",
   "execution_count": 8,
   "metadata": {},
   "outputs": [],
   "source": [
    "x_col = [ 'followers', 'article', 'document', 'image', 'poll', 'text', 'video', 'achievement', 'call to action', \n",
    "         'insights', 'job opening', 'other', 'num_hashtags', 'num_links', 'contlen' ]\n",
    "y_col = ['Impressions']"
   ]
  },
  {
   "cell_type": "code",
   "execution_count": 9,
   "metadata": {},
   "outputs": [],
   "source": [
    "X_main = data[x_col]\n",
    "y_main = data[y_col]\n",
    "y_main=y_main['Impressions']"
   ]
  },
  {
   "cell_type": "code",
   "execution_count": null,
   "metadata": {},
   "outputs": [],
   "source": []
  },
  {
   "cell_type": "code",
   "execution_count": 10,
   "metadata": {},
   "outputs": [
    {
     "name": "stdout",
     "output_type": "stream",
     "text": [
      "<class 'pandas.core.frame.DataFrame'>\n",
      "Int64Index: 6000 entries, 31985 to 29267\n",
      "Data columns (total 15 columns):\n",
      " #   Column          Non-Null Count  Dtype\n",
      "---  ------          --------------  -----\n",
      " 0   followers       6000 non-null   int64\n",
      " 1   article         6000 non-null   int64\n",
      " 2   document        6000 non-null   int64\n",
      " 3   image           6000 non-null   int64\n",
      " 4   poll            6000 non-null   int64\n",
      " 5   text            6000 non-null   int64\n",
      " 6   video           6000 non-null   int64\n",
      " 7   achievement     6000 non-null   int64\n",
      " 8   call to action  6000 non-null   int64\n",
      " 9   insights        6000 non-null   int64\n",
      " 10  job opening     6000 non-null   int64\n",
      " 11  other           6000 non-null   int64\n",
      " 12  num_hashtags    6000 non-null   int64\n",
      " 13  num_links       6000 non-null   int64\n",
      " 14  contlen         6000 non-null   int64\n",
      "dtypes: int64(15)\n",
      "memory usage: 750.0 KB\n"
     ]
    }
   ],
   "source": [
    "X_main.info()"
   ]
  },
  {
   "cell_type": "code",
   "execution_count": 11,
   "metadata": {},
   "outputs": [
    {
     "name": "stderr",
     "output_type": "stream",
     "text": [
      "/home/saman/anaconda3/lib/python3.7/site-packages/ipykernel_launcher.py:1: SettingWithCopyWarning: \n",
      "A value is trying to be set on a copy of a slice from a DataFrame.\n",
      "Try using .loc[row_indexer,col_indexer] = value instead\n",
      "\n",
      "See the caveats in the documentation: https://pandas.pydata.org/pandas-docs/stable/user_guide/indexing.html#returning-a-view-versus-a-copy\n",
      "  \"\"\"Entry point for launching an IPython kernel.\n",
      "/home/saman/anaconda3/lib/python3.7/site-packages/ipykernel_launcher.py:2: SettingWithCopyWarning: \n",
      "A value is trying to be set on a copy of a slice from a DataFrame.\n",
      "Try using .loc[row_indexer,col_indexer] = value instead\n",
      "\n",
      "See the caveats in the documentation: https://pandas.pydata.org/pandas-docs/stable/user_guide/indexing.html#returning-a-view-versus-a-copy\n",
      "  \n"
     ]
    }
   ],
   "source": [
    "X_main['num_hash_ratio']=X_main['num_hashtags']/X_main['followers']\n",
    "X_main['num_links_ratio']=X_main['num_links']/X_main['followers']"
   ]
  },
  {
   "cell_type": "code",
   "execution_count": 12,
   "metadata": {},
   "outputs": [
    {
     "data": {
      "text/plain": [
       "followers          0.684638\n",
       "article           -0.100147\n",
       "document           0.018855\n",
       "image              0.058757\n",
       "poll              -0.009362\n",
       "text              -0.030508\n",
       "video              0.078858\n",
       "achievement        0.038048\n",
       "call to action    -0.062193\n",
       "insights           0.013713\n",
       "job opening        0.002713\n",
       "other             -0.007868\n",
       "num_hashtags      -0.090141\n",
       "num_links         -0.066548\n",
       "contlen           -0.055051\n",
       "num_hash_ratio    -0.062580\n",
       "num_links_ratio   -0.070495\n",
       "Impressions        1.000000\n",
       "Name: Impressions, dtype: float64"
      ]
     },
     "execution_count": 12,
     "metadata": {},
     "output_type": "execute_result"
    }
   ],
   "source": [
    "pd.concat([X_main ,y_main], axis=1).corr()['Impressions']"
   ]
  },
  {
   "cell_type": "code",
   "execution_count": 13,
   "metadata": {},
   "outputs": [
    {
     "name": "stdout",
     "output_type": "stream",
     "text": [
      "* followers\n"
     ]
    },
    {
     "data": {
      "image/png": "[encoded data removed]",
      "text/plain": [
       "<Figure size 432x288 with 1 Axes>"
      ]
     },
     "metadata": {
      "needs_background": "light"
     },
     "output_type": "display_data"
    },
    {
     "data": {
      "text/plain": [
       "<Figure size 432x288 with 0 Axes>"
      ]
     },
     "metadata": {},
     "output_type": "display_data"
    },
    {
     "name": "stdout",
     "output_type": "stream",
     "text": [
      "* article\n"
     ]
    },
    {
     "data": {
      "image/png": "[encoded data removed]",
      "text/plain": [
       "<Figure size 432x288 with 1 Axes>"
      ]
     },
     "metadata": {
      "needs_background": "light"
     },
     "output_type": "display_data"
    },
    {
     "data": {
      "text/plain": [
       "<Figure size 432x288 with 0 Axes>"
      ]
     },
     "metadata": {},
     "output_type": "display_data"
    },
    {
     "name": "stdout",
     "output_type": "stream",
     "text": [
      "* document\n"
     ]
    },
    {
     "data": {
      "image/png": "[encoded data removed]",
      "text/plain": [
       "<Figure size 432x288 with 1 Axes>"
      ]
     },
     "metadata": {
      "needs_background": "light"
     },
     "output_type": "display_data"
    },
    {
     "data": {
      "text/plain": [
       "<Figure size 432x288 with 0 Axes>"
      ]
     },
     "metadata": {},
     "output_type": "display_data"
    },
    {
     "name": "stdout",
     "output_type": "stream",
     "text": [
      "* image\n"
     ]
    },
    {
     "data": {
      "image/png": "[encoded data removed]",
      "text/plain": [
       "<Figure size 432x288 with 1 Axes>"
      ]
     },
     "metadata": {
      "needs_background": "light"
     },
     "output_type": "display_data"
    },
    {
     "data": {
      "text/plain": [
       "<Figure size 432x288 with 0 Axes>"
      ]
     },
     "metadata": {},
     "output_type": "display_data"
    },
    {
     "name": "stdout",
     "output_type": "stream",
     "text": [
      "* poll\n"
     ]
    },
    {
     "data": {
      "image/png": "[encoded data removed]",
      "text/plain": [
       "<Figure size 432x288 with 1 Axes>"
      ]
     },
     "metadata": {
      "needs_background": "light"
     },
     "output_type": "display_data"
    },
    {
     "data": {
      "text/plain": [
       "<Figure size 432x288 with 0 Axes>"
      ]
     },
     "metadata": {},
     "output_type": "display_data"
    },
    {
     "name": "stdout",
     "output_type": "stream",
     "text": [
      "* text\n"
     ]
    },
    {
     "data": {
      "image/png": "[encoded data removed]",
      "text/plain": [
       "<Figure size 432x288 with 1 Axes>"
      ]
     },
     "metadata": {
      "needs_background": "light"
     },
     "output_type": "display_data"
    },
    {
     "data": {
      "text/plain": [
       "<Figure size 432x288 with 0 Axes>"
      ]
     },
     "metadata": {},
     "output_type": "display_data"
    },
    {
     "name": "stdout",
     "output_type": "stream",
     "text": [
      "* video\n"
     ]
    },
    {
     "data": {
      "image/png": "[encoded data removed]",
      "text/plain": [
       "<Figure size 432x288 with 1 Axes>"
      ]
     },
     "metadata": {
      "needs_background": "light"
     },
     "output_type": "display_data"
    },
    {
     "data": {
      "text/plain": [
       "<Figure size 432x288 with 0 Axes>"
      ]
     },
     "metadata": {},
     "output_type": "display_data"
    },
    {
     "name": "stdout",
     "output_type": "stream",
     "text": [
      "* achievement\n"
     ]
    },
    {
     "data": {
      "image/png": "[encoded data removed]",
      "text/plain": [
       "<Figure size 432x288 with 1 Axes>"
      ]
     },
     "metadata": {
      "needs_background": "light"
     },
     "output_type": "display_data"
    },
    {
     "data": {
      "text/plain": [
       "<Figure size 432x288 with 0 Axes>"
      ]
     },
     "metadata": {},
     "output_type": "display_data"
    },
    {
     "name": "stdout",
     "output_type": "stream",
     "text": [
      "* call to action\n"
     ]
    },
    {
     "data": {
      "image/png": "[encoded data removed]",
      "text/plain": [
       "<Figure size 432x288 with 1 Axes>"
      ]
     },
     "metadata": {
      "needs_background": "light"
     },
     "output_type": "display_data"
    },
    {
     "data": {
      "text/plain": [
       "<Figure size 432x288 with 0 Axes>"
      ]
     },
     "metadata": {},
     "output_type": "display_data"
    },
    {
     "name": "stdout",
     "output_type": "stream",
     "text": [
      "* insights\n"
     ]
    },
    {
     "data": {
      "image/png": "[encoded data removed]",
      "text/plain": [
       "<Figure size 432x288 with 1 Axes>"
      ]
     },
     "metadata": {
      "needs_background": "light"
     },
     "output_type": "display_data"
    },
    {
     "data": {
      "text/plain": [
       "<Figure size 432x288 with 0 Axes>"
      ]
     },
     "metadata": {},
     "output_type": "display_data"
    },
    {
     "name": "stdout",
     "output_type": "stream",
     "text": [
      "* job opening\n"
     ]
    },
    {
     "data": {
      "image/png": "[encoded data removed]",
      "text/plain": [
       "<Figure size 432x288 with 1 Axes>"
      ]
     },
     "metadata": {
      "needs_background": "light"
     },
     "output_type": "display_data"
    },
    {
     "data": {
      "text/plain": [
       "<Figure size 432x288 with 0 Axes>"
      ]
     },
     "metadata": {},
     "output_type": "display_data"
    },
    {
     "name": "stdout",
     "output_type": "stream",
     "text": [
      "* other\n"
     ]
    },
    {
     "data": {
      "image/png": "[encoded data removed]",
      "text/plain": [
       "<Figure size 432x288 with 1 Axes>"
      ]
     },
     "metadata": {
      "needs_background": "light"
     },
     "output_type": "display_data"
    },
    {
     "data": {
      "text/plain": [
       "<Figure size 432x288 with 0 Axes>"
      ]
     },
     "metadata": {},
     "output_type": "display_data"
    },
    {
     "name": "stdout",
     "output_type": "stream",
     "text": [
      "* num_hashtags\n"
     ]
    },
    {
     "data": {
      "image/png": "[encoded data removed]",
      "text/plain": [
       "<Figure size 432x288 with 1 Axes>"
      ]
     },
     "metadata": {
      "needs_background": "light"
     },
     "output_type": "display_data"
    },
    {
     "data": {
      "text/plain": [
       "<Figure size 432x288 with 0 Axes>"
      ]
     },
     "metadata": {},
     "output_type": "display_data"
    },
    {
     "name": "stdout",
     "output_type": "stream",
     "text": [
      "* num_links\n"
     ]
    },
    {
     "data": {
      "image/png": "[encoded data removed]",
      "text/plain": [
       "<Figure size 432x288 with 1 Axes>"
      ]
     },
     "metadata": {
      "needs_background": "light"
     },
     "output_type": "display_data"
    },
    {
     "data": {
      "text/plain": [
       "<Figure size 432x288 with 0 Axes>"
      ]
     },
     "metadata": {},
     "output_type": "display_data"
    },
    {
     "name": "stdout",
     "output_type": "stream",
     "text": [
      "* contlen\n"
     ]
    },
    {
     "data": {
      "image/png": "[encoded data removed]",
      "text/plain": [
       "<Figure size 432x288 with 1 Axes>"
      ]
     },
     "metadata": {
      "needs_background": "light"
     },
     "output_type": "display_data"
    },
    {
     "data": {
      "text/plain": [
       "<Figure size 432x288 with 0 Axes>"
      ]
     },
     "metadata": {},
     "output_type": "display_data"
    },
    {
     "name": "stdout",
     "output_type": "stream",
     "text": [
      "* num_hash_ratio\n"
     ]
    },
    {
     "data": {
      "image/png": "[encoded data removed]",
      "text/plain": [
       "<Figure size 432x288 with 1 Axes>"
      ]
     },
     "metadata": {
      "needs_background": "light"
     },
     "output_type": "display_data"
    },
    {
     "data": {
      "text/plain": [
       "<Figure size 432x288 with 0 Axes>"
      ]
     },
     "metadata": {},
     "output_type": "display_data"
    },
    {
     "name": "stdout",
     "output_type": "stream",
     "text": [
      "* num_links_ratio\n"
     ]
    },
    {
     "data": {
      "image/png": "[encoded data removed]",
      "text/plain": [
       "<Figure size 432x288 with 1 Axes>"
      ]
     },
     "metadata": {
      "needs_background": "light"
     },
     "output_type": "display_data"
    },
    {
     "data": {
      "text/plain": [
       "<Figure size 432x288 with 0 Axes>"
      ]
     },
     "metadata": {},
     "output_type": "display_data"
    }
   ],
   "source": [
    "%matplotlib inline\n",
    " \n",
    "numbins = 40\n",
    "\n",
    "for i in X_main.columns:\n",
    "    print('*',i)\n",
    "    plt.hist(X_main[i], numbins, color='g')\n",
    "    plt.figure()\n",
    "    plt.show()"
   ]
  },
  {
   "cell_type": "code",
   "execution_count": 14,
   "metadata": {},
   "outputs": [
    {
     "name": "stderr",
     "output_type": "stream",
     "text": [
      "/home/saman/anaconda3/lib/python3.7/site-packages/pandas/core/indexing.py:965: SettingWithCopyWarning: \n",
      "A value is trying to be set on a copy of a slice from a DataFrame.\n",
      "Try using .loc[row_indexer,col_indexer] = value instead\n",
      "\n",
      "See the caveats in the documentation: https://pandas.pydata.org/pandas-docs/stable/user_guide/indexing.html#returning-a-view-versus-a-copy\n",
      "  self.obj[item] = s\n"
     ]
    }
   ],
   "source": [
    " \n",
    "val1=np.sqrt( X_main.loc[:,['followers']] )\n",
    "val2=np.sqrt( X_main.loc[:,['num_hashtags']] )\n",
    "val3=np.sqrt( X_main.loc[:,['num_links']] )\n",
    "val4=np.sqrt( X_main.loc[:,['contlen']] )\n",
    "val5=np.sqrt( X_main.loc[:,['num_hash_ratio']] )\n",
    "val6=np.sqrt( X_main.loc[:,['num_links_ratio']] )\n",
    "\n",
    "\n",
    "X_main.loc[:,['followers']] = val1\n",
    "X_main.loc[:,['num_hashtags']] =val2\n",
    "X_main.loc[:,['num_links']] = val3\n",
    "X_main.loc[:,['contlen']] = val4\n",
    "X_main.loc[:,['num_hash_ratio']] = val5\n",
    "X_main.loc[:,['num_links_ratio']] = val6\n"
   ]
  },
  {
   "cell_type": "code",
   "execution_count": 15,
   "metadata": {},
   "outputs": [
    {
     "name": "stdout",
     "output_type": "stream",
     "text": [
      "* followers\n"
     ]
    },
    {
     "data": {
      "image/png": "[encoded data removed]",
      "text/plain": [
       "<Figure size 432x288 with 1 Axes>"
      ]
     },
     "metadata": {
      "needs_background": "light"
     },
     "output_type": "display_data"
    },
    {
     "data": {
      "text/plain": [
       "<Figure size 432x288 with 0 Axes>"
      ]
     },
     "metadata": {},
     "output_type": "display_data"
    },
    {
     "name": "stdout",
     "output_type": "stream",
     "text": [
      "* article\n"
     ]
    },
    {
     "data": {
      "image/png": "[encoded data removed]",
      "text/plain": [
       "<Figure size 432x288 with 1 Axes>"
      ]
     },
     "metadata": {
      "needs_background": "light"
     },
     "output_type": "display_data"
    },
    {
     "data": {
      "text/plain": [
       "<Figure size 432x288 with 0 Axes>"
      ]
     },
     "metadata": {},
     "output_type": "display_data"
    },
    {
     "name": "stdout",
     "output_type": "stream",
     "text": [
      "* document\n"
     ]
    },
    {
     "data": {
      "image/png": "[encoded data removed]",
      "text/plain": [
       "<Figure size 432x288 with 1 Axes>"
      ]
     },
     "metadata": {
      "needs_background": "light"
     },
     "output_type": "display_data"
    },
    {
     "data": {
      "text/plain": [
       "<Figure size 432x288 with 0 Axes>"
      ]
     },
     "metadata": {},
     "output_type": "display_data"
    },
    {
     "name": "stdout",
     "output_type": "stream",
     "text": [
      "* image\n"
     ]
    },
    {
     "data": {
      "image/png": "[encoded data removed]",
      "text/plain": [
       "<Figure size 432x288 with 1 Axes>"
      ]
     },
     "metadata": {
      "needs_background": "light"
     },
     "output_type": "display_data"
    },
    {
     "data": {
      "text/plain": [
       "<Figure size 432x288 with 0 Axes>"
      ]
     },
     "metadata": {},
     "output_type": "display_data"
    },
    {
     "name": "stdout",
     "output_type": "stream",
     "text": [
      "* poll\n"
     ]
    },
    {
     "data": {
      "image/png": "[encoded data removed]",
      "text/plain": [
       "<Figure size 432x288 with 1 Axes>"
      ]
     },
     "metadata": {
      "needs_background": "light"
     },
     "output_type": "display_data"
    },
    {
     "data": {
      "text/plain": [
       "<Figure size 432x288 with 0 Axes>"
      ]
     },
     "metadata": {},
     "output_type": "display_data"
    },
    {
     "name": "stdout",
     "output_type": "stream",
     "text": [
      "* text\n"
     ]
    },
    {
     "data": {
      "image/png": "[encoded data removed]",
      "text/plain": [
       "<Figure size 432x288 with 1 Axes>"
      ]
     },
     "metadata": {
      "needs_background": "light"
     },
     "output_type": "display_data"
    },
    {
     "data": {
      "text/plain": [
       "<Figure size 432x288 with 0 Axes>"
      ]
     },
     "metadata": {},
     "output_type": "display_data"
    },
    {
     "name": "stdout",
     "output_type": "stream",
     "text": [
      "* video\n"
     ]
    },
    {
     "data": {
      "image/png": "[encoded data removed]",
      "text/plain": [
       "<Figure size 432x288 with 1 Axes>"
      ]
     },
     "metadata": {
      "needs_background": "light"
     },
     "output_type": "display_data"
    },
    {
     "data": {
      "text/plain": [
       "<Figure size 432x288 with 0 Axes>"
      ]
     },
     "metadata": {},
     "output_type": "display_data"
    },
    {
     "name": "stdout",
     "output_type": "stream",
     "text": [
      "* achievement\n"
     ]
    },
    {
     "data": {
      "image/png": "[encoded data removed]",
      "text/plain": [
       "<Figure size 432x288 with 1 Axes>"
      ]
     },
     "metadata": {
      "needs_background": "light"
     },
     "output_type": "display_data"
    },
    {
     "data": {
      "text/plain": [
       "<Figure size 432x288 with 0 Axes>"
      ]
     },
     "metadata": {},
     "output_type": "display_data"
    },
    {
     "name": "stdout",
     "output_type": "stream",
     "text": [
      "* call to action\n"
     ]
    },
    {
     "data": {
      "image/png": "[encoded data removed]",
      "text/plain": [
       "<Figure size 432x288 with 1 Axes>"
      ]
     },
     "metadata": {
      "needs_background": "light"
     },
     "output_type": "display_data"
    },
    {
     "data": {
      "text/plain": [
       "<Figure size 432x288 with 0 Axes>"
      ]
     },
     "metadata": {},
     "output_type": "display_data"
    },
    {
     "name": "stdout",
     "output_type": "stream",
     "text": [
      "* insights\n"
     ]
    },
    {
     "data": {
      "image/png": "[encoded data removed]",
      "text/plain": [
       "<Figure size 432x288 with 1 Axes>"
      ]
     },
     "metadata": {
      "needs_background": "light"
     },
     "output_type": "display_data"
    },
    {
     "data": {
      "text/plain": [
       "<Figure size 432x288 with 0 Axes>"
      ]
     },
     "metadata": {},
     "output_type": "display_data"
    },
    {
     "name": "stdout",
     "output_type": "stream",
     "text": [
      "* job opening\n"
     ]
    },
    {
     "data": {
      "image/png": "[encoded data removed]",
      "text/plain": [
       "<Figure size 432x288 with 1 Axes>"
      ]
     },
     "metadata": {
      "needs_background": "light"
     },
     "output_type": "display_data"
    },
    {
     "data": {
      "text/plain": [
       "<Figure size 432x288 with 0 Axes>"
      ]
     },
     "metadata": {},
     "output_type": "display_data"
    },
    {
     "name": "stdout",
     "output_type": "stream",
     "text": [
      "* other\n"
     ]
    },
    {
     "data": {
      "image/png": "[encoded data removed]",
      "text/plain": [
       "<Figure size 432x288 with 1 Axes>"
      ]
     },
     "metadata": {
      "needs_background": "light"
     },
     "output_type": "display_data"
    },
    {
     "data": {
      "text/plain": [
       "<Figure size 432x288 with 0 Axes>"
      ]
     },
     "metadata": {},
     "output_type": "display_data"
    },
    {
     "name": "stdout",
     "output_type": "stream",
     "text": [
      "* num_hashtags\n"
     ]
    },
    {
     "data": {
      "image/png": "[encoded data removed]",
      "text/plain": [
       "<Figure size 432x288 with 1 Axes>"
      ]
     },
     "metadata": {
      "needs_background": "light"
     },
     "output_type": "display_data"
    },
    {
     "data": {
      "text/plain": [
       "<Figure size 432x288 with 0 Axes>"
      ]
     },
     "metadata": {},
     "output_type": "display_data"
    },
    {
     "name": "stdout",
     "output_type": "stream",
     "text": [
      "* num_links\n"
     ]
    },
    {
     "data": {
      "image/png": "[encoded data removed]",
      "text/plain": [
       "<Figure size 432x288 with 1 Axes>"
      ]
     },
     "metadata": {
      "needs_background": "light"
     },
     "output_type": "display_data"
    },
    {
     "data": {
      "text/plain": [
       "<Figure size 432x288 with 0 Axes>"
      ]
     },
     "metadata": {},
     "output_type": "display_data"
    },
    {
     "name": "stdout",
     "output_type": "stream",
     "text": [
      "* contlen\n"
     ]
    },
    {
     "data": {
      "image/png": "[encoded data removed]",
      "text/plain": [
       "<Figure size 432x288 with 1 Axes>"
      ]
     },
     "metadata": {
      "needs_background": "light"
     },
     "output_type": "display_data"
    },
    {
     "data": {
      "text/plain": [
       "<Figure size 432x288 with 0 Axes>"
      ]
     },
     "metadata": {},
     "output_type": "display_data"
    },
    {
     "name": "stdout",
     "output_type": "stream",
     "text": [
      "* num_hash_ratio\n"
     ]
    },
    {
     "data": {
      "image/png": "[encoded data removed]",
      "text/plain": [
       "<Figure size 432x288 with 1 Axes>"
      ]
     },
     "metadata": {
      "needs_background": "light"
     },
     "output_type": "display_data"
    },
    {
     "data": {
      "text/plain": [
       "<Figure size 432x288 with 0 Axes>"
      ]
     },
     "metadata": {},
     "output_type": "display_data"
    },
    {
     "name": "stdout",
     "output_type": "stream",
     "text": [
      "* num_links_ratio\n"
     ]
    },
    {
     "data": {
      "image/png": "[encoded data removed]",
      "text/plain": [
       "<Figure size 432x288 with 1 Axes>"
      ]
     },
     "metadata": {
      "needs_background": "light"
     },
     "output_type": "display_data"
    },
    {
     "data": {
      "text/plain": [
       "<Figure size 432x288 with 0 Axes>"
      ]
     },
     "metadata": {},
     "output_type": "display_data"
    }
   ],
   "source": [
    "numbins = 40\n",
    "\n",
    "for i in X_main.columns:\n",
    "    print('*',i)\n",
    "    plt.hist(X_main[i], numbins, color='g')\n",
    "    plt.figure()\n",
    "    plt.show()"
   ]
  },
  {
   "cell_type": "code",
   "execution_count": 16,
   "metadata": {},
   "outputs": [
    {
     "data": {
      "text/plain": [
       "(array([5.769e+03, 1.960e+02, 1.600e+01, 8.000e+00, 5.000e+00, 2.000e+00,\n",
       "        0.000e+00, 2.000e+00, 0.000e+00, 2.000e+00]),\n",
       " array([5.63600000e+01, 3.30830772e+05, 6.61605184e+05, 9.92379596e+05,\n",
       "        1.32315401e+06, 1.65392842e+06, 1.98470283e+06, 2.31547724e+06,\n",
       "        2.64625166e+06, 2.97702607e+06, 3.30780048e+06]),\n",
       " <a list of 10 Patch objects>)"
      ]
     },
     "execution_count": 16,
     "metadata": {},
     "output_type": "execute_result"
    },
    {
     "data": {
      "image/png": "[encoded data removed]",
      "text/plain": [
       "<Figure size 432x288 with 1 Axes>"
      ]
     },
     "metadata": {
      "needs_background": "light"
     },
     "output_type": "display_data"
    }
   ],
   "source": [
    "plt.hist(y_main  , color='g' )"
   ]
  },
  {
   "cell_type": "code",
   "execution_count": 17,
   "metadata": {},
   "outputs": [
    {
     "data": {
      "text/plain": [
       "(array([  17.,  139.,  163.,  522., 1662., 1486., 1370.,  425.,  199.,\n",
       "          17.]),\n",
       " array([ 4.03175969,  5.12976312,  6.22776655,  7.32576999,  8.42377342,\n",
       "         9.52177685, 10.61978029, 11.71778372, 12.81578715, 13.91379059,\n",
       "        15.01179402]),\n",
       " <a list of 10 Patch objects>)"
      ]
     },
     "execution_count": 17,
     "metadata": {},
     "output_type": "execute_result"
    },
    {
     "data": {
      "image/png": "[encoded data removed]",
      "text/plain": [
       "<Figure size 432x288 with 1 Axes>"
      ]
     },
     "metadata": {
      "needs_background": "light"
     },
     "output_type": "display_data"
    }
   ],
   "source": [
    "plt.hist(np.log(y_main)  , color='g')\n",
    " "
   ]
  },
  {
   "cell_type": "code",
   "execution_count": 18,
   "metadata": {},
   "outputs": [],
   "source": [
    "y_main=np.log(y_main) "
   ]
  },
  {
   "cell_type": "code",
   "execution_count": null,
   "metadata": {},
   "outputs": [],
   "source": []
  },
  {
   "cell_type": "code",
   "execution_count": 19,
   "metadata": {},
   "outputs": [],
   "source": [
    "from sklearn.model_selection import train_test_split\n",
    "X, X_finaltest, y, y_finaltest = train_test_split(X_main, y_main, test_size=0.25, random_state=42)"
   ]
  },
  {
   "cell_type": "code",
   "execution_count": 20,
   "metadata": {},
   "outputs": [
    {
     "data": {
      "text/plain": [
       "(4500, 17)"
      ]
     },
     "execution_count": 20,
     "metadata": {},
     "output_type": "execute_result"
    }
   ],
   "source": [
    "X.shape"
   ]
  },
  {
   "cell_type": "code",
   "execution_count": 21,
   "metadata": {},
   "outputs": [],
   "source": [
    "from sklearn.model_selection import train_test_split\n",
    "X_train, X_test, y_train, y_test = train_test_split(X, y, test_size=0.2, random_state=42)"
   ]
  },
  {
   "cell_type": "code",
   "execution_count": 22,
   "metadata": {},
   "outputs": [
    {
     "data": {
      "text/plain": [
       "followers          0.842135\n",
       "article           -0.191811\n",
       "document           0.058196\n",
       "image              0.101134\n",
       "poll              -0.010587\n",
       "text              -0.118798\n",
       "video              0.209009\n",
       "achievement        0.008524\n",
       "call to action    -0.087449\n",
       "insights           0.069367\n",
       "job opening       -0.005385\n",
       "other             -0.000642\n",
       "num_hashtags      -0.030496\n",
       "num_links          0.052689\n",
       "contlen            0.013135\n",
       "num_hash_ratio    -0.399386\n",
       "num_links_ratio   -0.470168\n",
       "Impressions        1.000000\n",
       "Name: Impressions, dtype: float64"
      ]
     },
     "execution_count": 22,
     "metadata": {},
     "output_type": "execute_result"
    }
   ],
   "source": [
    "pd.concat([X  ,y ], axis=1).corr()['Impressions']"
   ]
  },
  {
   "cell_type": "code",
   "execution_count": 23,
   "metadata": {},
   "outputs": [
    {
     "data": {
      "text/html": [
       "<div>\n",
       "<style scoped>\n",
       "    .dataframe tbody tr th:only-of-type {\n",
       "        vertical-align: middle;\n",
       "    }\n",
       "\n",
       "    .dataframe tbody tr th {\n",
       "        vertical-align: top;\n",
       "    }\n",
       "\n",
       "    .dataframe thead th {\n",
       "        text-align: right;\n",
       "    }\n",
       "</style>\n",
       "<table border=\"1\" class=\"dataframe\">\n",
       "  <thead>\n",
       "    <tr style=\"text-align: right;\">\n",
       "      <th></th>\n",
       "      <th>followers</th>\n",
       "      <th>article</th>\n",
       "      <th>document</th>\n",
       "      <th>image</th>\n",
       "      <th>poll</th>\n",
       "      <th>text</th>\n",
       "      <th>video</th>\n",
       "      <th>achievement</th>\n",
       "      <th>call to action</th>\n",
       "      <th>insights</th>\n",
       "      <th>job opening</th>\n",
       "      <th>other</th>\n",
       "      <th>num_hashtags</th>\n",
       "      <th>num_links</th>\n",
       "      <th>contlen</th>\n",
       "      <th>num_hash_ratio</th>\n",
       "      <th>num_links_ratio</th>\n",
       "      <th>Impressions</th>\n",
       "    </tr>\n",
       "  </thead>\n",
       "  <tbody>\n",
       "    <tr>\n",
       "      <th>44158</th>\n",
       "      <td>299.275793</td>\n",
       "      <td>0</td>\n",
       "      <td>0</td>\n",
       "      <td>1</td>\n",
       "      <td>0</td>\n",
       "      <td>0</td>\n",
       "      <td>0</td>\n",
       "      <td>0</td>\n",
       "      <td>0</td>\n",
       "      <td>1</td>\n",
       "      <td>0</td>\n",
       "      <td>0</td>\n",
       "      <td>0.000000</td>\n",
       "      <td>0.000000</td>\n",
       "      <td>16.217275</td>\n",
       "      <td>0.000000</td>\n",
       "      <td>0.000000</td>\n",
       "      <td>8.191829</td>\n",
       "    </tr>\n",
       "    <tr>\n",
       "      <th>24389</th>\n",
       "      <td>536.639544</td>\n",
       "      <td>0</td>\n",
       "      <td>0</td>\n",
       "      <td>0</td>\n",
       "      <td>0</td>\n",
       "      <td>0</td>\n",
       "      <td>1</td>\n",
       "      <td>0</td>\n",
       "      <td>0</td>\n",
       "      <td>1</td>\n",
       "      <td>0</td>\n",
       "      <td>0</td>\n",
       "      <td>1.000000</td>\n",
       "      <td>1.414214</td>\n",
       "      <td>20.273135</td>\n",
       "      <td>0.001863</td>\n",
       "      <td>0.002635</td>\n",
       "      <td>9.163211</td>\n",
       "    </tr>\n",
       "    <tr>\n",
       "      <th>30934</th>\n",
       "      <td>1158.865393</td>\n",
       "      <td>0</td>\n",
       "      <td>0</td>\n",
       "      <td>1</td>\n",
       "      <td>0</td>\n",
       "      <td>0</td>\n",
       "      <td>0</td>\n",
       "      <td>0</td>\n",
       "      <td>0</td>\n",
       "      <td>1</td>\n",
       "      <td>0</td>\n",
       "      <td>0</td>\n",
       "      <td>0.000000</td>\n",
       "      <td>1.414214</td>\n",
       "      <td>18.973666</td>\n",
       "      <td>0.000000</td>\n",
       "      <td>0.001220</td>\n",
       "      <td>10.616667</td>\n",
       "    </tr>\n",
       "    <tr>\n",
       "      <th>30570</th>\n",
       "      <td>4276.605079</td>\n",
       "      <td>1</td>\n",
       "      <td>0</td>\n",
       "      <td>0</td>\n",
       "      <td>0</td>\n",
       "      <td>0</td>\n",
       "      <td>0</td>\n",
       "      <td>0</td>\n",
       "      <td>0</td>\n",
       "      <td>1</td>\n",
       "      <td>0</td>\n",
       "      <td>0</td>\n",
       "      <td>0.000000</td>\n",
       "      <td>1.732051</td>\n",
       "      <td>14.696938</td>\n",
       "      <td>0.000000</td>\n",
       "      <td>0.000405</td>\n",
       "      <td>13.218704</td>\n",
       "    </tr>\n",
       "    <tr>\n",
       "      <th>22634</th>\n",
       "      <td>1085.472247</td>\n",
       "      <td>1</td>\n",
       "      <td>0</td>\n",
       "      <td>0</td>\n",
       "      <td>0</td>\n",
       "      <td>0</td>\n",
       "      <td>0</td>\n",
       "      <td>0</td>\n",
       "      <td>0</td>\n",
       "      <td>1</td>\n",
       "      <td>0</td>\n",
       "      <td>0</td>\n",
       "      <td>1.000000</td>\n",
       "      <td>1.732051</td>\n",
       "      <td>21.863211</td>\n",
       "      <td>0.000921</td>\n",
       "      <td>0.001596</td>\n",
       "      <td>10.216655</td>\n",
       "    </tr>\n",
       "    <tr>\n",
       "      <th>...</th>\n",
       "      <td>...</td>\n",
       "      <td>...</td>\n",
       "      <td>...</td>\n",
       "      <td>...</td>\n",
       "      <td>...</td>\n",
       "      <td>...</td>\n",
       "      <td>...</td>\n",
       "      <td>...</td>\n",
       "      <td>...</td>\n",
       "      <td>...</td>\n",
       "      <td>...</td>\n",
       "      <td>...</td>\n",
       "      <td>...</td>\n",
       "      <td>...</td>\n",
       "      <td>...</td>\n",
       "      <td>...</td>\n",
       "      <td>...</td>\n",
       "      <td>...</td>\n",
       "    </tr>\n",
       "    <tr>\n",
       "      <th>35519</th>\n",
       "      <td>4277.284419</td>\n",
       "      <td>1</td>\n",
       "      <td>0</td>\n",
       "      <td>0</td>\n",
       "      <td>0</td>\n",
       "      <td>0</td>\n",
       "      <td>0</td>\n",
       "      <td>0</td>\n",
       "      <td>0</td>\n",
       "      <td>1</td>\n",
       "      <td>0</td>\n",
       "      <td>0</td>\n",
       "      <td>0.000000</td>\n",
       "      <td>1.000000</td>\n",
       "      <td>11.045361</td>\n",
       "      <td>0.000000</td>\n",
       "      <td>0.000234</td>\n",
       "      <td>12.857859</td>\n",
       "    </tr>\n",
       "    <tr>\n",
       "      <th>12534</th>\n",
       "      <td>1085.472247</td>\n",
       "      <td>0</td>\n",
       "      <td>0</td>\n",
       "      <td>0</td>\n",
       "      <td>0</td>\n",
       "      <td>0</td>\n",
       "      <td>1</td>\n",
       "      <td>0</td>\n",
       "      <td>0</td>\n",
       "      <td>1</td>\n",
       "      <td>0</td>\n",
       "      <td>0</td>\n",
       "      <td>1.732051</td>\n",
       "      <td>2.000000</td>\n",
       "      <td>21.931712</td>\n",
       "      <td>0.001596</td>\n",
       "      <td>0.001843</td>\n",
       "      <td>10.158711</td>\n",
       "    </tr>\n",
       "    <tr>\n",
       "      <th>30013</th>\n",
       "      <td>95.357223</td>\n",
       "      <td>1</td>\n",
       "      <td>0</td>\n",
       "      <td>0</td>\n",
       "      <td>0</td>\n",
       "      <td>0</td>\n",
       "      <td>0</td>\n",
       "      <td>0</td>\n",
       "      <td>1</td>\n",
       "      <td>0</td>\n",
       "      <td>0</td>\n",
       "      <td>0</td>\n",
       "      <td>0.000000</td>\n",
       "      <td>2.000000</td>\n",
       "      <td>33.301652</td>\n",
       "      <td>0.000000</td>\n",
       "      <td>0.020974</td>\n",
       "      <td>7.022743</td>\n",
       "    </tr>\n",
       "    <tr>\n",
       "      <th>4888</th>\n",
       "      <td>548.352989</td>\n",
       "      <td>0</td>\n",
       "      <td>0</td>\n",
       "      <td>1</td>\n",
       "      <td>0</td>\n",
       "      <td>0</td>\n",
       "      <td>0</td>\n",
       "      <td>0</td>\n",
       "      <td>1</td>\n",
       "      <td>0</td>\n",
       "      <td>0</td>\n",
       "      <td>0</td>\n",
       "      <td>2.449490</td>\n",
       "      <td>2.645751</td>\n",
       "      <td>28.266588</td>\n",
       "      <td>0.004467</td>\n",
       "      <td>0.004825</td>\n",
       "      <td>9.064600</td>\n",
       "    </tr>\n",
       "    <tr>\n",
       "      <th>15252</th>\n",
       "      <td>254.062984</td>\n",
       "      <td>1</td>\n",
       "      <td>0</td>\n",
       "      <td>0</td>\n",
       "      <td>0</td>\n",
       "      <td>0</td>\n",
       "      <td>0</td>\n",
       "      <td>0</td>\n",
       "      <td>0</td>\n",
       "      <td>1</td>\n",
       "      <td>0</td>\n",
       "      <td>0</td>\n",
       "      <td>1.732051</td>\n",
       "      <td>1.732051</td>\n",
       "      <td>11.575837</td>\n",
       "      <td>0.006817</td>\n",
       "      <td>0.006817</td>\n",
       "      <td>9.197352</td>\n",
       "    </tr>\n",
       "  </tbody>\n",
       "</table>\n",
       "<p>4500 rows × 18 columns</p>\n",
       "</div>"
      ],
      "text/plain": [
       "         followers  article  document  image  poll  text  video  achievement  \\\n",
       "44158   299.275793        0         0      1     0     0      0            0   \n",
       "24389   536.639544        0         0      0     0     0      1            0   \n",
       "30934  1158.865393        0         0      1     0     0      0            0   \n",
       "30570  4276.605079        1         0      0     0     0      0            0   \n",
       "22634  1085.472247        1         0      0     0     0      0            0   \n",
       "...            ...      ...       ...    ...   ...   ...    ...          ...   \n",
       "35519  4277.284419        1         0      0     0     0      0            0   \n",
       "12534  1085.472247        0         0      0     0     0      1            0   \n",
       "30013    95.357223        1         0      0     0     0      0            0   \n",
       "4888    548.352989        0         0      1     0     0      0            0   \n",
       "15252   254.062984        1         0      0     0     0      0            0   \n",
       "\n",
       "       call to action  insights  job opening  other  num_hashtags  num_links  \\\n",
       "44158               0         1            0      0      0.000000   0.000000   \n",
       "24389               0         1            0      0      1.000000   1.414214   \n",
       "30934               0         1            0      0      0.000000   1.414214   \n",
       "30570               0         1            0      0      0.000000   1.732051   \n",
       "22634               0         1            0      0      1.000000   1.732051   \n",
       "...               ...       ...          ...    ...           ...        ...   \n",
       "35519               0         1            0      0      0.000000   1.000000   \n",
       "12534               0         1            0      0      1.732051   2.000000   \n",
       "30013               1         0            0      0      0.000000   2.000000   \n",
       "4888                1         0            0      0      2.449490   2.645751   \n",
       "15252               0         1            0      0      1.732051   1.732051   \n",
       "\n",
       "         contlen  num_hash_ratio  num_links_ratio  Impressions  \n",
       "44158  16.217275        0.000000         0.000000     8.191829  \n",
       "24389  20.273135        0.001863         0.002635     9.163211  \n",
       "30934  18.973666        0.000000         0.001220    10.616667  \n",
       "30570  14.696938        0.000000         0.000405    13.218704  \n",
       "22634  21.863211        0.000921         0.001596    10.216655  \n",
       "...          ...             ...              ...          ...  \n",
       "35519  11.045361        0.000000         0.000234    12.857859  \n",
       "12534  21.931712        0.001596         0.001843    10.158711  \n",
       "30013  33.301652        0.000000         0.020974     7.022743  \n",
       "4888   28.266588        0.004467         0.004825     9.064600  \n",
       "15252  11.575837        0.006817         0.006817     9.197352  \n",
       "\n",
       "[4500 rows x 18 columns]"
      ]
     },
     "execution_count": 23,
     "metadata": {},
     "output_type": "execute_result"
    }
   ],
   "source": [
    "pd.concat([X  ,y ], axis=1)"
   ]
  },
  {
   "cell_type": "code",
   "execution_count": 24,
   "metadata": {},
   "outputs": [],
   "source": [
    "dataexport=pd.concat([X_main  ,y_main ], axis=1)\n",
    "dataexport.to_csv('smalldata.csv',index=False)"
   ]
  },
  {
   "cell_type": "code",
   "execution_count": 70,
   "metadata": {},
   "outputs": [],
   "source": [
    "# MODEL 1"
   ]
  },
  {
   "cell_type": "code",
   "execution_count": 71,
   "metadata": {},
   "outputs": [
    {
     "name": "stdout",
     "output_type": "stream",
     "text": [
      "{'n_neighbors': 8}\n",
      "0.9250754967724975\n"
     ]
    }
   ],
   "source": [
    "from sklearn.model_selection import RandomizedSearchCV\n",
    "param_dist =  {\n",
    "        'n_neighbors': [  3,4,5,6,7,8,9,10,14,15,16,17,18,19,20,21,22,23,24,25,26,27,28,29,30,31 ,32,35,37,40  ]\n",
    "    }\n",
    "from sklearn.neighbors import KNeighborsRegressor\n",
    "model = KNeighborsRegressor()\n",
    "model_best = RandomizedSearchCV(model, param_dist )\n",
    "\n",
    " \n",
    "model_best.fit( X , y )\n",
    "print(model_best.best_params_ )\n",
    "print(model_best.best_score_ )"
   ]
  },
  {
   "cell_type": "code",
   "execution_count": 72,
   "metadata": {},
   "outputs": [
    {
     "name": "stdout",
     "output_type": "stream",
     "text": [
      "r2 score: 0.9312761496705525\n",
      "mse:  0.17174080467579642\n"
     ]
    },
    {
     "data": {
      "image/png": "[encoded data removed]",
      "text/plain": [
       "<Figure size 432x288 with 1 Axes>"
      ]
     },
     "metadata": {
      "needs_background": "light"
     },
     "output_type": "display_data"
    }
   ],
   "source": [
    "from sklearn.neighbors import KNeighborsRegressor\n",
    "classifier1 = KNeighborsRegressor(n_neighbors =  8)\n",
    "classifier1.fit(X_train, y_train)\n",
    "y_pred = classifier1.predict(X_test)\n",
    "\n",
    " \n",
    "plt.scatter(y_test, y_pred)\n",
    "from sklearn.metrics import r2_score\n",
    "print(\"r2 score:\" ,r2_score(y_test, y_pred))\n",
    "from sklearn.metrics import mean_squared_error\n",
    "print(\"mse: \",mean_squared_error(y_test, y_pred))"
   ]
  },
  {
   "cell_type": "code",
   "execution_count": null,
   "metadata": {},
   "outputs": [],
   "source": [
    " "
   ]
  },
  {
   "cell_type": "code",
   "execution_count": 73,
   "metadata": {},
   "outputs": [],
   "source": [
    "# model 2"
   ]
  },
  {
   "cell_type": "code",
   "execution_count": 74,
   "metadata": {},
   "outputs": [
    {
     "name": "stdout",
     "output_type": "stream",
     "text": [
      "{'subsample': 0.95, 'n_estimators': 200, 'min_child_weight': 1, 'max_depth': 4, 'learning_rate': 0.04, 'colsample_bytree': 1}\n",
      "0.9277012499273869\n"
     ]
    }
   ],
   "source": [
    "from sklearn.model_selection import RandomizedSearchCV\n",
    "import xgboost\n",
    "model = xgboost.XGBRegressor()\n",
    "param_dist = {'n_estimators':  [50,60,70,80,90,100,110,120,200,300],\n",
    "              'learning_rate':  [0.003,0.006,0.008,0.01,0.04,0.07,0.09,0.1,0.12,0.2,0.3],\n",
    "              'subsample':  [ 0.8,0.85,0.9,0.95,1],\n",
    "              'max_depth': [3, 4, 5, 6, 7, 8, 9],\n",
    "              'colsample_bytree': [0.6,0.65,0.7,0.75,0.8,0.9,1],\n",
    "              'min_child_weight': [1,2,3,4,5,6,7]\n",
    "             }\n",
    "model_best = RandomizedSearchCV(model, param_distributions = param_dist, n_iter = 100 )\n",
    "model_best.fit( X,y )\n",
    "\n",
    "print(model_best.best_params_ )\n",
    "print(model_best.best_score_ )"
   ]
  },
  {
   "cell_type": "code",
   "execution_count": 75,
   "metadata": {},
   "outputs": [
    {
     "name": "stdout",
     "output_type": "stream",
     "text": [
      "r2 score: 0.9321583946217389\n",
      "mse:  0.1695360757918417\n"
     ]
    },
    {
     "data": {
      "image/png": "[encoded data removed]",
      "text/plain": [
       "<Figure size 432x288 with 1 Axes>"
      ]
     },
     "metadata": {
      "needs_background": "light"
     },
     "output_type": "display_data"
    }
   ],
   "source": [
    "import xgboost\n",
    "classifier2 = xgboost.XGBRegressor( n_estimators=200, learning_rate=0.04, subsample=0.95, max_depth=4, colsample_bytree=1 , min_child_weight=2)\n",
    "classifier2.fit(X_train, y_train)\n",
    "y_pred = classifier2.predict(X_test)\n",
    "\n",
    "plt.scatter(y_test, y_pred)\n",
    "from sklearn.metrics import r2_score\n",
    "print(\"r2 score:\" ,r2_score(y_test, y_pred))\n",
    "from sklearn.metrics import mean_squared_error\n",
    "print(\"mse: \",mean_squared_error(y_test, y_pred))"
   ]
  },
  {
   "cell_type": "code",
   "execution_count": null,
   "metadata": {},
   "outputs": [],
   "source": []
  },
  {
   "cell_type": "code",
   "execution_count": null,
   "metadata": {},
   "outputs": [],
   "source": []
  },
  {
   "cell_type": "code",
   "execution_count": null,
   "metadata": {},
   "outputs": [],
   "source": [
    "# model 3"
   ]
  },
  {
   "cell_type": "code",
   "execution_count": 76,
   "metadata": {},
   "outputs": [
    {
     "name": "stdout",
     "output_type": "stream",
     "text": [
      "{'n_estimators': 600, 'min_samples_split': 10, 'min_samples_leaf': 2, 'max_features': 'auto', 'max_depth': 30, 'bootstrap': True}\n",
      "0.930581130336804\n"
     ]
    }
   ],
   "source": [
    "from sklearn.model_selection import RandomizedSearchCV\n",
    "from sklearn.ensemble import RandomForestRegressor\n",
    "model = RandomForestRegressor()\n",
    "param_dist = {'bootstrap': [True, False],\n",
    "               'max_depth': [2,3, 4, 5, 6, 7, 8, 9,10, 20, 30, 40, 50, 60, 70, 80, 90, 100, 110, None],\n",
    "               'max_features': ['auto', 'sqrt'],\n",
    "               'min_samples_leaf': [1, 2,3, 4],\n",
    "               'min_samples_split': [2, 5, 10,12,14,16,18,20,22,24],\n",
    "               'n_estimators':  [70,80,85,90,95,100,110,120,200,300,400,500,600,700,800]\n",
    "             }\n",
    "model_best = RandomizedSearchCV(model, param_distributions = param_dist, n_iter = 100 )\n",
    "model_best.fit( X,y )\n",
    "\n",
    "print(model_best.best_params_ )\n",
    "print(model_best.best_score_ )"
   ]
  },
  {
   "cell_type": "code",
   "execution_count": 77,
   "metadata": {},
   "outputs": [
    {
     "name": "stdout",
     "output_type": "stream",
     "text": [
      "r2 score: 0.9333749723182774\n",
      "mse:  0.1664958498505921\n"
     ]
    },
    {
     "data": {
      "image/png": "[encoded data removed]",
      "text/plain": [
       "<Figure size 432x288 with 1 Axes>"
      ]
     },
     "metadata": {
      "needs_background": "light"
     },
     "output_type": "display_data"
    }
   ],
   "source": [
    "from sklearn.model_selection import RandomizedSearchCV\n",
    "from sklearn.ensemble import RandomForestRegressor\n",
    "classifier = RandomForestRegressor(n_estimators=600,min_samples_split=10,min_samples_leaf=2,max_features='auto',max_depth=30,bootstrap=True)\n",
    "classifier.fit(X_train, y_train)\n",
    "y_pred = classifier.predict(X_test)\n",
    "\n",
    "plt.scatter(y_test, y_pred)\n",
    "from sklearn.metrics import r2_score\n",
    "print(\"r2 score:\" ,r2_score(y_test, y_pred))\n",
    "from sklearn.metrics import mean_squared_error\n",
    "print(\"mse: \",mean_squared_error(y_test, y_pred))"
   ]
  },
  {
   "cell_type": "code",
   "execution_count": null,
   "metadata": {},
   "outputs": [],
   "source": []
  },
  {
   "cell_type": "code",
   "execution_count": 78,
   "metadata": {},
   "outputs": [],
   "source": [
    "#\n",
    "m1 = KNeighborsRegressor(n_neighbors = 8)\n",
    "m2 = xgboost.XGBRegressor( n_estimators=200, learning_rate=0.04, subsample=0.95, max_depth=4, colsample_bytree=1 , min_child_weight=2)\n",
    "m3 = RandomForestRegressor(n_estimators=600,min_samples_split=10,min_samples_leaf=2,max_features='auto',max_depth=30,bootstrap=True)"
   ]
  },
  {
   "cell_type": "code",
   "execution_count": 79,
   "metadata": {},
   "outputs": [
    {
     "name": "stdout",
     "output_type": "stream",
     "text": [
      "r2 score: 0.93560694767033\n",
      "mse:  0.16091814660578674\n"
     ]
    },
    {
     "data": {
      "image/png": "[encoded data removed]",
      "text/plain": [
       "<Figure size 432x288 with 1 Axes>"
      ]
     },
     "metadata": {
      "needs_background": "light"
     },
     "output_type": "display_data"
    }
   ],
   "source": [
    "from sklearn.ensemble import VotingRegressor\n",
    "\n",
    "# Voting Classifier with hard voting\n",
    "vot  = VotingRegressor(estimators=[  ('m1', m1), ('m2', m2) ,('m3', m3) ], weights=[3,4,5], n_jobs=-1)\n",
    "vot.fit(X_train, y_train)\n",
    "y_pred = vot.predict(X_test)\n",
    "\n",
    "plt.scatter(y_test, y_pred)\n",
    "from sklearn.metrics import r2_score\n",
    "print(\"r2 score:\" ,r2_score(y_test, y_pred))\n",
    "from sklearn.metrics import mean_squared_error\n",
    "print(\"mse: \",mean_squared_error(y_test, y_pred))"
   ]
  },
  {
   "cell_type": "code",
   "execution_count": null,
   "metadata": {},
   "outputs": [],
   "source": []
  },
  {
   "cell_type": "code",
   "execution_count": 80,
   "metadata": {},
   "outputs": [],
   "source": [
    "# Final Testing"
   ]
  },
  {
   "cell_type": "code",
   "execution_count": 83,
   "metadata": {},
   "outputs": [],
   "source": [
    "from sklearn.ensemble import VotingRegressor\n",
    "y_pred = vot.predict(X_finaltest)"
   ]
  },
  {
   "cell_type": "code",
   "execution_count": 85,
   "metadata": {},
   "outputs": [
    {
     "data": {
      "image/png": "[encoded data removed]",
      "text/plain": [
       "<Figure size 432x288 with 1 Axes>"
      ]
     },
     "metadata": {
      "needs_background": "light"
     },
     "output_type": "display_data"
    },
    {
     "data": {
      "text/plain": [
       "<Figure size 432x288 with 0 Axes>"
      ]
     },
     "metadata": {},
     "output_type": "display_data"
    },
    {
     "data": {
      "image/png": "[encoded data removed]",
      "text/plain": [
       "<Figure size 432x288 with 1 Axes>"
      ]
     },
     "metadata": {
      "needs_background": "light"
     },
     "output_type": "display_data"
    },
    {
     "data": {
      "text/plain": [
       "<Figure size 432x288 with 0 Axes>"
      ]
     },
     "metadata": {},
     "output_type": "display_data"
    }
   ],
   "source": [
    "plt.hist(y_finaltest  , color='g' )\n",
    "plt.figure()\n",
    "plt.show()\n",
    "plt.hist(y_pred  , color='g' )\n",
    "plt.figure()\n",
    "plt.show()"
   ]
  },
  {
   "cell_type": "code",
   "execution_count": 86,
   "metadata": {},
   "outputs": [
    {
     "name": "stdout",
     "output_type": "stream",
     "text": [
      "5.18705055411945\n",
      "13.67092055222576\n",
      "9.911946395470508\n"
     ]
    }
   ],
   "source": [
    "print(y_finaltest.min())\n",
    "print(y_finaltest.max())\n",
    "print(y_finaltest.mean())"
   ]
  },
  {
   "cell_type": "code",
   "execution_count": 87,
   "metadata": {},
   "outputs": [
    {
     "name": "stdout",
     "output_type": "stream",
     "text": [
      "r2 score: 0.9379871251210998\n",
      "mse:  0.15636265571710295\n"
     ]
    },
    {
     "data": {
      "image/png": "[encoded data removed]",
      "text/plain": [
       "<Figure size 432x288 with 1 Axes>"
      ]
     },
     "metadata": {
      "needs_background": "light"
     },
     "output_type": "display_data"
    }
   ],
   "source": [
    "plt.scatter(y_finaltest, y_pred)\n",
    "from sklearn.metrics import r2_score\n",
    "print(\"r2 score:\" ,r2_score(y_finaltest, y_pred))\n",
    "from sklearn.metrics import mean_squared_error\n",
    "print(\"mse: \",mean_squared_error(y_finaltest, y_pred))"
   ]
  },
  {
   "cell_type": "code",
   "execution_count": 130,
   "metadata": {},
   "outputs": [],
   "source": [
    "# Final mse error is 0.156\n",
    "# Final r2 score is 0.9379"
   ]
  },
  {
   "cell_type": "code",
   "execution_count": null,
   "metadata": {},
   "outputs": [],
   "source": [
    " "
   ]
  },
  {
   "cell_type": "code",
   "execution_count": null,
   "metadata": {},
   "outputs": [],
   "source": []
  }
 ],
 "metadata": {
  "kernelspec": {
   "display_name": "Python 3",
   "language": "python",
   "name": "python3"
  },
  "language_info": {
   "codemirror_mode": {
    "name": "ipython",
    "version": 3
   },
   "file_extension": ".py",
   "mimetype": "text/x-python",
   "name": "python",
   "nbconvert_exporter": "python",
   "pygments_lexer": "ipython3",
   "version": "3.7.6"
  }
 },
 "nbformat": 4,
 "nbformat_minor": 4
}
