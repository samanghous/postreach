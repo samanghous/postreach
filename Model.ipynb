{
 "cells": [
  {
   "cell_type": "code",
   "execution_count": 23,
   "metadata": {},
   "outputs": [],
   "source": [
    "import pandas as pd\n",
    "import numpy as np\n",
    "import seaborn as sns \n",
    "import matplotlib.pyplot as plt\n",
    "%matplotlib inline "
   ]
  },
  {
   "cell_type": "code",
   "execution_count": 24,
   "metadata": {},
   "outputs": [
    {
     "data": {
      "text/html": [
       "<div>\n",
       "<style scoped>\n",
       "    .dataframe tbody tr th:only-of-type {\n",
       "        vertical-align: middle;\n",
       "    }\n",
       "\n",
       "    .dataframe tbody tr th {\n",
       "        vertical-align: top;\n",
       "    }\n",
       "\n",
       "    .dataframe thead th {\n",
       "        text-align: right;\n",
       "    }\n",
       "</style>\n",
       "<table border=\"1\" class=\"dataframe\">\n",
       "  <thead>\n",
       "    <tr style=\"text-align: right;\">\n",
       "      <th></th>\n",
       "      <th>Unnamed: 0</th>\n",
       "      <th>Unnamed: 0.1</th>\n",
       "      <th>name</th>\n",
       "      <th>headline</th>\n",
       "      <th>followers</th>\n",
       "      <th>about</th>\n",
       "      <th>time_spent</th>\n",
       "      <th>content</th>\n",
       "      <th>content_links</th>\n",
       "      <th>media_urls</th>\n",
       "      <th>...</th>\n",
       "      <th>poll</th>\n",
       "      <th>text</th>\n",
       "      <th>video</th>\n",
       "      <th>achievement</th>\n",
       "      <th>call to action</th>\n",
       "      <th>info.1</th>\n",
       "      <th>insights</th>\n",
       "      <th>job opening</th>\n",
       "      <th>other</th>\n",
       "      <th>conf2</th>\n",
       "    </tr>\n",
       "  </thead>\n",
       "  <tbody>\n",
       "    <tr>\n",
       "      <th>0</th>\n",
       "      <td>30197</td>\n",
       "      <td>30197</td>\n",
       "      <td>Mohamed El-Erian</td>\n",
       "      <td>President at Queens'​ College, Cambridge</td>\n",
       "      <td>2417012</td>\n",
       "      <td>Dr Mohamed A. El-Erian is President of Queens'...</td>\n",
       "      <td>11 months ago</td>\n",
       "      <td>Add \"and what comes post crisis\" and you have ...</td>\n",
       "      <td>[['https://www.linkedin.com/feed/hashtag/?keyw...</td>\n",
       "      <td>['https://media-exp1.licdn.com/dms/image/C4E22...</td>\n",
       "      <td>...</td>\n",
       "      <td>0</td>\n",
       "      <td>0</td>\n",
       "      <td>0</td>\n",
       "      <td>0</td>\n",
       "      <td>0</td>\n",
       "      <td>0</td>\n",
       "      <td>1</td>\n",
       "      <td>0</td>\n",
       "      <td>0</td>\n",
       "      <td>0.283271</td>\n",
       "    </tr>\n",
       "    <tr>\n",
       "      <th>1</th>\n",
       "      <td>30184</td>\n",
       "      <td>30184</td>\n",
       "      <td>Mohamed El-Erian</td>\n",
       "      <td>President at Queens'​ College, Cambridge</td>\n",
       "      <td>2417012</td>\n",
       "      <td>Dr Mohamed A. El-Erian is President of Queens'...</td>\n",
       "      <td>11 months ago</td>\n",
       "      <td>The weekly quick update of my highly simplifie...</td>\n",
       "      <td>[['https://www.linkedin.com/feed/hashtag/?keyw...</td>\n",
       "      <td>['https://media-exp1.licdn.com/dms/image/C4E22...</td>\n",
       "      <td>...</td>\n",
       "      <td>0</td>\n",
       "      <td>0</td>\n",
       "      <td>0</td>\n",
       "      <td>0</td>\n",
       "      <td>0</td>\n",
       "      <td>0</td>\n",
       "      <td>1</td>\n",
       "      <td>0</td>\n",
       "      <td>0</td>\n",
       "      <td>0.299478</td>\n",
       "    </tr>\n",
       "    <tr>\n",
       "      <th>2</th>\n",
       "      <td>46604</td>\n",
       "      <td>46604</td>\n",
       "      <td>Neil Hughes</td>\n",
       "      <td>Providing tailored Compliant Access, Security,...</td>\n",
       "      <td>15241</td>\n",
       "      <td>Experienced Manager with Strong Knowledge of T...</td>\n",
       "      <td>1 day ago</td>\n",
       "      <td>Extend your conventional access control with w...</td>\n",
       "      <td>[['https://lnkd.in/gqBt8k3', 'https://lnkd.in/...</td>\n",
       "      <td>[]</td>\n",
       "      <td>...</td>\n",
       "      <td>0</td>\n",
       "      <td>0</td>\n",
       "      <td>1</td>\n",
       "      <td>1</td>\n",
       "      <td>0</td>\n",
       "      <td>0</td>\n",
       "      <td>0</td>\n",
       "      <td>0</td>\n",
       "      <td>0</td>\n",
       "      <td>0.283739</td>\n",
       "    </tr>\n",
       "    <tr>\n",
       "      <th>3</th>\n",
       "      <td>42531</td>\n",
       "      <td>42531</td>\n",
       "      <td>Vikram Mansharamani</td>\n",
       "      <td>Author, Academic, Advisor; Worth Power 100; Li...</td>\n",
       "      <td>85125</td>\n",
       "      <td>Dr. Vikram Mansharamani is a global trend-watc...</td>\n",
       "      <td>1 month ago</td>\n",
       "      <td>Pleased to share my annual set of predictions ...</td>\n",
       "      <td>[['https://www.linkedin.com/feed/hashtag/?keyw...</td>\n",
       "      <td>['https://www.linkedin.com/pulse/21-global-dev...</td>\n",
       "      <td>...</td>\n",
       "      <td>0</td>\n",
       "      <td>0</td>\n",
       "      <td>0</td>\n",
       "      <td>0</td>\n",
       "      <td>0</td>\n",
       "      <td>0</td>\n",
       "      <td>1</td>\n",
       "      <td>0</td>\n",
       "      <td>0</td>\n",
       "      <td>0.323109</td>\n",
       "    </tr>\n",
       "    <tr>\n",
       "      <th>4</th>\n",
       "      <td>46668</td>\n",
       "      <td>46668</td>\n",
       "      <td>Neil Hughes</td>\n",
       "      <td>Providing tailored Compliant Access, Security,...</td>\n",
       "      <td>15241</td>\n",
       "      <td>Experienced Manager with Strong Knowledge of T...</td>\n",
       "      <td>2 months ago</td>\n",
       "      <td>New Integration of CLIQ® products inside Genet...</td>\n",
       "      <td>[['https://lnkd.in/eE5scT7', 'https://lnkd.in/...</td>\n",
       "      <td>['https://www.abloy.com/en-us/news-and-media4/...</td>\n",
       "      <td>...</td>\n",
       "      <td>0</td>\n",
       "      <td>0</td>\n",
       "      <td>0</td>\n",
       "      <td>0</td>\n",
       "      <td>0</td>\n",
       "      <td>0</td>\n",
       "      <td>1</td>\n",
       "      <td>0</td>\n",
       "      <td>0</td>\n",
       "      <td>0.338060</td>\n",
       "    </tr>\n",
       "    <tr>\n",
       "      <th>...</th>\n",
       "      <td>...</td>\n",
       "      <td>...</td>\n",
       "      <td>...</td>\n",
       "      <td>...</td>\n",
       "      <td>...</td>\n",
       "      <td>...</td>\n",
       "      <td>...</td>\n",
       "      <td>...</td>\n",
       "      <td>...</td>\n",
       "      <td>...</td>\n",
       "      <td>...</td>\n",
       "      <td>...</td>\n",
       "      <td>...</td>\n",
       "      <td>...</td>\n",
       "      <td>...</td>\n",
       "      <td>...</td>\n",
       "      <td>...</td>\n",
       "      <td>...</td>\n",
       "      <td>...</td>\n",
       "      <td>...</td>\n",
       "      <td>...</td>\n",
       "    </tr>\n",
       "    <tr>\n",
       "      <th>54968</th>\n",
       "      <td>55140</td>\n",
       "      <td>55140</td>\n",
       "      <td>Simon Sinek</td>\n",
       "      <td>Optimist and Author at Simon Sinek Inc.</td>\n",
       "      <td>4206024</td>\n",
       "      <td>Simon Sinek is an unshakable optimist who beli...</td>\n",
       "      <td>4 years ago</td>\n",
       "      <td>Igniter of the Year 2016. Well I know that I'm...</td>\n",
       "      <td>[]</td>\n",
       "      <td>['https://media-exp1.licdn.com/dms/image/C5622...</td>\n",
       "      <td>...</td>\n",
       "      <td>0</td>\n",
       "      <td>0</td>\n",
       "      <td>0</td>\n",
       "      <td>1</td>\n",
       "      <td>0</td>\n",
       "      <td>0</td>\n",
       "      <td>0</td>\n",
       "      <td>0</td>\n",
       "      <td>0</td>\n",
       "      <td>0.356085</td>\n",
       "    </tr>\n",
       "    <tr>\n",
       "      <th>54969</th>\n",
       "      <td>55141</td>\n",
       "      <td>55141</td>\n",
       "      <td>Simon Sinek</td>\n",
       "      <td>Optimist and Author at Simon Sinek Inc.</td>\n",
       "      <td>4206024</td>\n",
       "      <td>Simon Sinek is an unshakable optimist who beli...</td>\n",
       "      <td>4 years ago</td>\n",
       "      <td>Executives who prioritize the shareholder are ...</td>\n",
       "      <td>[]</td>\n",
       "      <td>[]</td>\n",
       "      <td>...</td>\n",
       "      <td>0</td>\n",
       "      <td>0</td>\n",
       "      <td>1</td>\n",
       "      <td>0</td>\n",
       "      <td>1</td>\n",
       "      <td>0</td>\n",
       "      <td>0</td>\n",
       "      <td>0</td>\n",
       "      <td>0</td>\n",
       "      <td>0.179531</td>\n",
       "    </tr>\n",
       "    <tr>\n",
       "      <th>54970</th>\n",
       "      <td>55142</td>\n",
       "      <td>55142</td>\n",
       "      <td>Simon Sinek</td>\n",
       "      <td>Optimist and Author at Simon Sinek Inc.</td>\n",
       "      <td>4206024</td>\n",
       "      <td>Simon Sinek is an unshakable optimist who beli...</td>\n",
       "      <td>4 years ago</td>\n",
       "      <td>Like many, I too have been reflecting as we ne...</td>\n",
       "      <td>[]</td>\n",
       "      <td>[]</td>\n",
       "      <td>...</td>\n",
       "      <td>0</td>\n",
       "      <td>0</td>\n",
       "      <td>1</td>\n",
       "      <td>0</td>\n",
       "      <td>0</td>\n",
       "      <td>0</td>\n",
       "      <td>1</td>\n",
       "      <td>0</td>\n",
       "      <td>0</td>\n",
       "      <td>0.290362</td>\n",
       "    </tr>\n",
       "    <tr>\n",
       "      <th>54971</th>\n",
       "      <td>55143</td>\n",
       "      <td>55143</td>\n",
       "      <td>Simon Sinek</td>\n",
       "      <td>Optimist and Author at Simon Sinek Inc.</td>\n",
       "      <td>4206024</td>\n",
       "      <td>Simon Sinek is an unshakable optimist who beli...</td>\n",
       "      <td>4 years ago</td>\n",
       "      <td>If you say \"customer first\" that means your em...</td>\n",
       "      <td>[]</td>\n",
       "      <td>[]</td>\n",
       "      <td>...</td>\n",
       "      <td>0</td>\n",
       "      <td>0</td>\n",
       "      <td>1</td>\n",
       "      <td>0</td>\n",
       "      <td>0</td>\n",
       "      <td>0</td>\n",
       "      <td>0</td>\n",
       "      <td>1</td>\n",
       "      <td>0</td>\n",
       "      <td>0.345141</td>\n",
       "    </tr>\n",
       "    <tr>\n",
       "      <th>54972</th>\n",
       "      <td>55144</td>\n",
       "      <td>55144</td>\n",
       "      <td>Simon Sinek</td>\n",
       "      <td>Optimist and Author at Simon Sinek Inc.</td>\n",
       "      <td>4206024</td>\n",
       "      <td>Simon Sinek is an unshakable optimist who beli...</td>\n",
       "      <td>4 years ago</td>\n",
       "      <td>The small work hard to serve themselves in a b...</td>\n",
       "      <td>[]</td>\n",
       "      <td>[]</td>\n",
       "      <td>...</td>\n",
       "      <td>0</td>\n",
       "      <td>1</td>\n",
       "      <td>0</td>\n",
       "      <td>0</td>\n",
       "      <td>0</td>\n",
       "      <td>0</td>\n",
       "      <td>1</td>\n",
       "      <td>0</td>\n",
       "      <td>0</td>\n",
       "      <td>0.357110</td>\n",
       "    </tr>\n",
       "  </tbody>\n",
       "</table>\n",
       "<p>54973 rows × 36 columns</p>\n",
       "</div>"
      ],
      "text/plain": [
       "       Unnamed: 0  Unnamed: 0.1                 name  \\\n",
       "0           30197         30197     Mohamed El-Erian   \n",
       "1           30184         30184     Mohamed El-Erian   \n",
       "2           46604         46604          Neil Hughes   \n",
       "3           42531         42531  Vikram Mansharamani   \n",
       "4           46668         46668          Neil Hughes   \n",
       "...           ...           ...                  ...   \n",
       "54968       55140         55140          Simon Sinek   \n",
       "54969       55141         55141          Simon Sinek   \n",
       "54970       55142         55142          Simon Sinek   \n",
       "54971       55143         55143          Simon Sinek   \n",
       "54972       55144         55144          Simon Sinek   \n",
       "\n",
       "                                                headline  followers  \\\n",
       "0               President at Queens'​ College, Cambridge    2417012   \n",
       "1               President at Queens'​ College, Cambridge    2417012   \n",
       "2      Providing tailored Compliant Access, Security,...      15241   \n",
       "3      Author, Academic, Advisor; Worth Power 100; Li...      85125   \n",
       "4      Providing tailored Compliant Access, Security,...      15241   \n",
       "...                                                  ...        ...   \n",
       "54968            Optimist and Author at Simon Sinek Inc.    4206024   \n",
       "54969            Optimist and Author at Simon Sinek Inc.    4206024   \n",
       "54970            Optimist and Author at Simon Sinek Inc.    4206024   \n",
       "54971            Optimist and Author at Simon Sinek Inc.    4206024   \n",
       "54972            Optimist and Author at Simon Sinek Inc.    4206024   \n",
       "\n",
       "                                                   about     time_spent  \\\n",
       "0      Dr Mohamed A. El-Erian is President of Queens'...  11 months ago   \n",
       "1      Dr Mohamed A. El-Erian is President of Queens'...  11 months ago   \n",
       "2      Experienced Manager with Strong Knowledge of T...      1 day ago   \n",
       "3      Dr. Vikram Mansharamani is a global trend-watc...    1 month ago   \n",
       "4      Experienced Manager with Strong Knowledge of T...   2 months ago   \n",
       "...                                                  ...            ...   \n",
       "54968  Simon Sinek is an unshakable optimist who beli...    4 years ago   \n",
       "54969  Simon Sinek is an unshakable optimist who beli...    4 years ago   \n",
       "54970  Simon Sinek is an unshakable optimist who beli...    4 years ago   \n",
       "54971  Simon Sinek is an unshakable optimist who beli...    4 years ago   \n",
       "54972  Simon Sinek is an unshakable optimist who beli...    4 years ago   \n",
       "\n",
       "                                                 content  \\\n",
       "0      Add \"and what comes post crisis\" and you have ...   \n",
       "1      The weekly quick update of my highly simplifie...   \n",
       "2      Extend your conventional access control with w...   \n",
       "3      Pleased to share my annual set of predictions ...   \n",
       "4      New Integration of CLIQ® products inside Genet...   \n",
       "...                                                  ...   \n",
       "54968  Igniter of the Year 2016. Well I know that I'm...   \n",
       "54969  Executives who prioritize the shareholder are ...   \n",
       "54970  Like many, I too have been reflecting as we ne...   \n",
       "54971  If you say \"customer first\" that means your em...   \n",
       "54972  The small work hard to serve themselves in a b...   \n",
       "\n",
       "                                           content_links  \\\n",
       "0      [['https://www.linkedin.com/feed/hashtag/?keyw...   \n",
       "1      [['https://www.linkedin.com/feed/hashtag/?keyw...   \n",
       "2      [['https://lnkd.in/gqBt8k3', 'https://lnkd.in/...   \n",
       "3      [['https://www.linkedin.com/feed/hashtag/?keyw...   \n",
       "4      [['https://lnkd.in/eE5scT7', 'https://lnkd.in/...   \n",
       "...                                                  ...   \n",
       "54968                                                 []   \n",
       "54969                                                 []   \n",
       "54970                                                 []   \n",
       "54971                                                 []   \n",
       "54972                                                 []   \n",
       "\n",
       "                                              media_urls  ...  poll  text  \\\n",
       "0      ['https://media-exp1.licdn.com/dms/image/C4E22...  ...     0     0   \n",
       "1      ['https://media-exp1.licdn.com/dms/image/C4E22...  ...     0     0   \n",
       "2                                                     []  ...     0     0   \n",
       "3      ['https://www.linkedin.com/pulse/21-global-dev...  ...     0     0   \n",
       "4      ['https://www.abloy.com/en-us/news-and-media4/...  ...     0     0   \n",
       "...                                                  ...  ...   ...   ...   \n",
       "54968  ['https://media-exp1.licdn.com/dms/image/C5622...  ...     0     0   \n",
       "54969                                                 []  ...     0     0   \n",
       "54970                                                 []  ...     0     0   \n",
       "54971                                                 []  ...     0     0   \n",
       "54972                                                 []  ...     0     1   \n",
       "\n",
       "      video  achievement  call to action  info.1  insights  job opening other  \\\n",
       "0         0            0               0       0         1            0     0   \n",
       "1         0            0               0       0         1            0     0   \n",
       "2         1            1               0       0         0            0     0   \n",
       "3         0            0               0       0         1            0     0   \n",
       "4         0            0               0       0         1            0     0   \n",
       "...     ...          ...             ...     ...       ...          ...   ...   \n",
       "54968     0            1               0       0         0            0     0   \n",
       "54969     1            0               1       0         0            0     0   \n",
       "54970     1            0               0       0         1            0     0   \n",
       "54971     1            0               0       0         0            1     0   \n",
       "54972     0            0               0       0         1            0     0   \n",
       "\n",
       "          conf2  \n",
       "0      0.283271  \n",
       "1      0.299478  \n",
       "2      0.283739  \n",
       "3      0.323109  \n",
       "4      0.338060  \n",
       "...         ...  \n",
       "54968  0.356085  \n",
       "54969  0.179531  \n",
       "54970  0.290362  \n",
       "54971  0.345141  \n",
       "54972  0.357110  \n",
       "\n",
       "[54973 rows x 36 columns]"
      ]
     },
     "execution_count": 24,
     "metadata": {},
     "output_type": "execute_result"
    }
   ],
   "source": [
    "data=pd.read_csv('dataset.csv')#model dataset\n",
    "data "
   ]
  },
  {
   "cell_type": "code",
   "execution_count": 25,
   "metadata": {},
   "outputs": [
    {
     "data": {
      "text/plain": [
       "Unnamed: 0           0\n",
       "Unnamed: 0.1         0\n",
       "name                 0\n",
       "headline             0\n",
       "followers            0\n",
       "about                0\n",
       "time_spent           0\n",
       "content              0\n",
       "content_links        0\n",
       "media_urls           0\n",
       "num_hashtags         0\n",
       "hashtag_followers    0\n",
       "hashtags             0\n",
       "reactions            0\n",
       "comments             0\n",
       "t_factor             0\n",
       "num_links            0\n",
       "contlen              0\n",
       "info                 0\n",
       "relevance_score_2    0\n",
       "relevance_score      0\n",
       "Impressions          0\n",
       "Reach                0\n",
       "article              0\n",
       "document             0\n",
       "image                0\n",
       "poll                 0\n",
       "text                 0\n",
       "video                0\n",
       "achievement          0\n",
       "call to action       0\n",
       "info.1               0\n",
       "insights             0\n",
       "job opening          0\n",
       "other                0\n",
       "conf2                0\n",
       "dtype: int64"
      ]
     },
     "execution_count": 25,
     "metadata": {},
     "output_type": "execute_result"
    }
   ],
   "source": [
    "data.isnull().sum()"
   ]
  },
  {
   "cell_type": "code",
   "execution_count": 26,
   "metadata": {},
   "outputs": [
    {
     "data": {
      "text/html": [
       "<div>\n",
       "<style scoped>\n",
       "    .dataframe tbody tr th:only-of-type {\n",
       "        vertical-align: middle;\n",
       "    }\n",
       "\n",
       "    .dataframe tbody tr th {\n",
       "        vertical-align: top;\n",
       "    }\n",
       "\n",
       "    .dataframe thead th {\n",
       "        text-align: right;\n",
       "    }\n",
       "</style>\n",
       "<table border=\"1\" class=\"dataframe\">\n",
       "  <thead>\n",
       "    <tr style=\"text-align: right;\">\n",
       "      <th></th>\n",
       "      <th>Unnamed: 0</th>\n",
       "      <th>Unnamed: 0.1</th>\n",
       "      <th>name</th>\n",
       "      <th>headline</th>\n",
       "      <th>followers</th>\n",
       "      <th>about</th>\n",
       "      <th>time_spent</th>\n",
       "      <th>content</th>\n",
       "      <th>content_links</th>\n",
       "      <th>media_urls</th>\n",
       "      <th>...</th>\n",
       "      <th>poll</th>\n",
       "      <th>text</th>\n",
       "      <th>video</th>\n",
       "      <th>achievement</th>\n",
       "      <th>call to action</th>\n",
       "      <th>info.1</th>\n",
       "      <th>insights</th>\n",
       "      <th>job opening</th>\n",
       "      <th>other</th>\n",
       "      <th>conf2</th>\n",
       "    </tr>\n",
       "  </thead>\n",
       "  <tbody>\n",
       "    <tr>\n",
       "      <th>0</th>\n",
       "      <td>30197</td>\n",
       "      <td>30197</td>\n",
       "      <td>Mohamed El-Erian</td>\n",
       "      <td>President at Queens'​ College, Cambridge</td>\n",
       "      <td>2417012</td>\n",
       "      <td>Dr Mohamed A. El-Erian is President of Queens'...</td>\n",
       "      <td>11 months ago</td>\n",
       "      <td>Add \"and what comes post crisis\" and you have ...</td>\n",
       "      <td>[['https://www.linkedin.com/feed/hashtag/?keyw...</td>\n",
       "      <td>['https://media-exp1.licdn.com/dms/image/C4E22...</td>\n",
       "      <td>...</td>\n",
       "      <td>0</td>\n",
       "      <td>0</td>\n",
       "      <td>0</td>\n",
       "      <td>0</td>\n",
       "      <td>0</td>\n",
       "      <td>0</td>\n",
       "      <td>1</td>\n",
       "      <td>0</td>\n",
       "      <td>0</td>\n",
       "      <td>0.283271</td>\n",
       "    </tr>\n",
       "    <tr>\n",
       "      <th>1</th>\n",
       "      <td>30184</td>\n",
       "      <td>30184</td>\n",
       "      <td>Mohamed El-Erian</td>\n",
       "      <td>President at Queens'​ College, Cambridge</td>\n",
       "      <td>2417012</td>\n",
       "      <td>Dr Mohamed A. El-Erian is President of Queens'...</td>\n",
       "      <td>11 months ago</td>\n",
       "      <td>The weekly quick update of my highly simplifie...</td>\n",
       "      <td>[['https://www.linkedin.com/feed/hashtag/?keyw...</td>\n",
       "      <td>['https://media-exp1.licdn.com/dms/image/C4E22...</td>\n",
       "      <td>...</td>\n",
       "      <td>0</td>\n",
       "      <td>0</td>\n",
       "      <td>0</td>\n",
       "      <td>0</td>\n",
       "      <td>0</td>\n",
       "      <td>0</td>\n",
       "      <td>1</td>\n",
       "      <td>0</td>\n",
       "      <td>0</td>\n",
       "      <td>0.299478</td>\n",
       "    </tr>\n",
       "    <tr>\n",
       "      <th>2</th>\n",
       "      <td>46604</td>\n",
       "      <td>46604</td>\n",
       "      <td>Neil Hughes</td>\n",
       "      <td>Providing tailored Compliant Access, Security,...</td>\n",
       "      <td>15241</td>\n",
       "      <td>Experienced Manager with Strong Knowledge of T...</td>\n",
       "      <td>1 day ago</td>\n",
       "      <td>Extend your conventional access control with w...</td>\n",
       "      <td>[['https://lnkd.in/gqBt8k3', 'https://lnkd.in/...</td>\n",
       "      <td>[]</td>\n",
       "      <td>...</td>\n",
       "      <td>0</td>\n",
       "      <td>0</td>\n",
       "      <td>1</td>\n",
       "      <td>1</td>\n",
       "      <td>0</td>\n",
       "      <td>0</td>\n",
       "      <td>0</td>\n",
       "      <td>0</td>\n",
       "      <td>0</td>\n",
       "      <td>0.283739</td>\n",
       "    </tr>\n",
       "    <tr>\n",
       "      <th>3</th>\n",
       "      <td>42531</td>\n",
       "      <td>42531</td>\n",
       "      <td>Vikram Mansharamani</td>\n",
       "      <td>Author, Academic, Advisor; Worth Power 100; Li...</td>\n",
       "      <td>85125</td>\n",
       "      <td>Dr. Vikram Mansharamani is a global trend-watc...</td>\n",
       "      <td>1 month ago</td>\n",
       "      <td>Pleased to share my annual set of predictions ...</td>\n",
       "      <td>[['https://www.linkedin.com/feed/hashtag/?keyw...</td>\n",
       "      <td>['https://www.linkedin.com/pulse/21-global-dev...</td>\n",
       "      <td>...</td>\n",
       "      <td>0</td>\n",
       "      <td>0</td>\n",
       "      <td>0</td>\n",
       "      <td>0</td>\n",
       "      <td>0</td>\n",
       "      <td>0</td>\n",
       "      <td>1</td>\n",
       "      <td>0</td>\n",
       "      <td>0</td>\n",
       "      <td>0.323109</td>\n",
       "    </tr>\n",
       "    <tr>\n",
       "      <th>4</th>\n",
       "      <td>46668</td>\n",
       "      <td>46668</td>\n",
       "      <td>Neil Hughes</td>\n",
       "      <td>Providing tailored Compliant Access, Security,...</td>\n",
       "      <td>15241</td>\n",
       "      <td>Experienced Manager with Strong Knowledge of T...</td>\n",
       "      <td>2 months ago</td>\n",
       "      <td>New Integration of CLIQ® products inside Genet...</td>\n",
       "      <td>[['https://lnkd.in/eE5scT7', 'https://lnkd.in/...</td>\n",
       "      <td>['https://www.abloy.com/en-us/news-and-media4/...</td>\n",
       "      <td>...</td>\n",
       "      <td>0</td>\n",
       "      <td>0</td>\n",
       "      <td>0</td>\n",
       "      <td>0</td>\n",
       "      <td>0</td>\n",
       "      <td>0</td>\n",
       "      <td>1</td>\n",
       "      <td>0</td>\n",
       "      <td>0</td>\n",
       "      <td>0.338060</td>\n",
       "    </tr>\n",
       "    <tr>\n",
       "      <th>...</th>\n",
       "      <td>...</td>\n",
       "      <td>...</td>\n",
       "      <td>...</td>\n",
       "      <td>...</td>\n",
       "      <td>...</td>\n",
       "      <td>...</td>\n",
       "      <td>...</td>\n",
       "      <td>...</td>\n",
       "      <td>...</td>\n",
       "      <td>...</td>\n",
       "      <td>...</td>\n",
       "      <td>...</td>\n",
       "      <td>...</td>\n",
       "      <td>...</td>\n",
       "      <td>...</td>\n",
       "      <td>...</td>\n",
       "      <td>...</td>\n",
       "      <td>...</td>\n",
       "      <td>...</td>\n",
       "      <td>...</td>\n",
       "      <td>...</td>\n",
       "    </tr>\n",
       "    <tr>\n",
       "      <th>54968</th>\n",
       "      <td>55140</td>\n",
       "      <td>55140</td>\n",
       "      <td>Simon Sinek</td>\n",
       "      <td>Optimist and Author at Simon Sinek Inc.</td>\n",
       "      <td>4206024</td>\n",
       "      <td>Simon Sinek is an unshakable optimist who beli...</td>\n",
       "      <td>4 years ago</td>\n",
       "      <td>Igniter of the Year 2016. Well I know that I'm...</td>\n",
       "      <td>[]</td>\n",
       "      <td>['https://media-exp1.licdn.com/dms/image/C5622...</td>\n",
       "      <td>...</td>\n",
       "      <td>0</td>\n",
       "      <td>0</td>\n",
       "      <td>0</td>\n",
       "      <td>1</td>\n",
       "      <td>0</td>\n",
       "      <td>0</td>\n",
       "      <td>0</td>\n",
       "      <td>0</td>\n",
       "      <td>0</td>\n",
       "      <td>0.356085</td>\n",
       "    </tr>\n",
       "    <tr>\n",
       "      <th>54969</th>\n",
       "      <td>55141</td>\n",
       "      <td>55141</td>\n",
       "      <td>Simon Sinek</td>\n",
       "      <td>Optimist and Author at Simon Sinek Inc.</td>\n",
       "      <td>4206024</td>\n",
       "      <td>Simon Sinek is an unshakable optimist who beli...</td>\n",
       "      <td>4 years ago</td>\n",
       "      <td>Executives who prioritize the shareholder are ...</td>\n",
       "      <td>[]</td>\n",
       "      <td>[]</td>\n",
       "      <td>...</td>\n",
       "      <td>0</td>\n",
       "      <td>0</td>\n",
       "      <td>1</td>\n",
       "      <td>0</td>\n",
       "      <td>1</td>\n",
       "      <td>0</td>\n",
       "      <td>0</td>\n",
       "      <td>0</td>\n",
       "      <td>0</td>\n",
       "      <td>0.179531</td>\n",
       "    </tr>\n",
       "    <tr>\n",
       "      <th>54970</th>\n",
       "      <td>55142</td>\n",
       "      <td>55142</td>\n",
       "      <td>Simon Sinek</td>\n",
       "      <td>Optimist and Author at Simon Sinek Inc.</td>\n",
       "      <td>4206024</td>\n",
       "      <td>Simon Sinek is an unshakable optimist who beli...</td>\n",
       "      <td>4 years ago</td>\n",
       "      <td>Like many, I too have been reflecting as we ne...</td>\n",
       "      <td>[]</td>\n",
       "      <td>[]</td>\n",
       "      <td>...</td>\n",
       "      <td>0</td>\n",
       "      <td>0</td>\n",
       "      <td>1</td>\n",
       "      <td>0</td>\n",
       "      <td>0</td>\n",
       "      <td>0</td>\n",
       "      <td>1</td>\n",
       "      <td>0</td>\n",
       "      <td>0</td>\n",
       "      <td>0.290362</td>\n",
       "    </tr>\n",
       "    <tr>\n",
       "      <th>54971</th>\n",
       "      <td>55143</td>\n",
       "      <td>55143</td>\n",
       "      <td>Simon Sinek</td>\n",
       "      <td>Optimist and Author at Simon Sinek Inc.</td>\n",
       "      <td>4206024</td>\n",
       "      <td>Simon Sinek is an unshakable optimist who beli...</td>\n",
       "      <td>4 years ago</td>\n",
       "      <td>If you say \"customer first\" that means your em...</td>\n",
       "      <td>[]</td>\n",
       "      <td>[]</td>\n",
       "      <td>...</td>\n",
       "      <td>0</td>\n",
       "      <td>0</td>\n",
       "      <td>1</td>\n",
       "      <td>0</td>\n",
       "      <td>0</td>\n",
       "      <td>0</td>\n",
       "      <td>0</td>\n",
       "      <td>1</td>\n",
       "      <td>0</td>\n",
       "      <td>0.345141</td>\n",
       "    </tr>\n",
       "    <tr>\n",
       "      <th>54972</th>\n",
       "      <td>55144</td>\n",
       "      <td>55144</td>\n",
       "      <td>Simon Sinek</td>\n",
       "      <td>Optimist and Author at Simon Sinek Inc.</td>\n",
       "      <td>4206024</td>\n",
       "      <td>Simon Sinek is an unshakable optimist who beli...</td>\n",
       "      <td>4 years ago</td>\n",
       "      <td>The small work hard to serve themselves in a b...</td>\n",
       "      <td>[]</td>\n",
       "      <td>[]</td>\n",
       "      <td>...</td>\n",
       "      <td>0</td>\n",
       "      <td>1</td>\n",
       "      <td>0</td>\n",
       "      <td>0</td>\n",
       "      <td>0</td>\n",
       "      <td>0</td>\n",
       "      <td>1</td>\n",
       "      <td>0</td>\n",
       "      <td>0</td>\n",
       "      <td>0.357110</td>\n",
       "    </tr>\n",
       "  </tbody>\n",
       "</table>\n",
       "<p>54973 rows × 36 columns</p>\n",
       "</div>"
      ],
      "text/plain": [
       "       Unnamed: 0  Unnamed: 0.1                 name  \\\n",
       "0           30197         30197     Mohamed El-Erian   \n",
       "1           30184         30184     Mohamed El-Erian   \n",
       "2           46604         46604          Neil Hughes   \n",
       "3           42531         42531  Vikram Mansharamani   \n",
       "4           46668         46668          Neil Hughes   \n",
       "...           ...           ...                  ...   \n",
       "54968       55140         55140          Simon Sinek   \n",
       "54969       55141         55141          Simon Sinek   \n",
       "54970       55142         55142          Simon Sinek   \n",
       "54971       55143         55143          Simon Sinek   \n",
       "54972       55144         55144          Simon Sinek   \n",
       "\n",
       "                                                headline  followers  \\\n",
       "0               President at Queens'​ College, Cambridge    2417012   \n",
       "1               President at Queens'​ College, Cambridge    2417012   \n",
       "2      Providing tailored Compliant Access, Security,...      15241   \n",
       "3      Author, Academic, Advisor; Worth Power 100; Li...      85125   \n",
       "4      Providing tailored Compliant Access, Security,...      15241   \n",
       "...                                                  ...        ...   \n",
       "54968            Optimist and Author at Simon Sinek Inc.    4206024   \n",
       "54969            Optimist and Author at Simon Sinek Inc.    4206024   \n",
       "54970            Optimist and Author at Simon Sinek Inc.    4206024   \n",
       "54971            Optimist and Author at Simon Sinek Inc.    4206024   \n",
       "54972            Optimist and Author at Simon Sinek Inc.    4206024   \n",
       "\n",
       "                                                   about     time_spent  \\\n",
       "0      Dr Mohamed A. El-Erian is President of Queens'...  11 months ago   \n",
       "1      Dr Mohamed A. El-Erian is President of Queens'...  11 months ago   \n",
       "2      Experienced Manager with Strong Knowledge of T...      1 day ago   \n",
       "3      Dr. Vikram Mansharamani is a global trend-watc...    1 month ago   \n",
       "4      Experienced Manager with Strong Knowledge of T...   2 months ago   \n",
       "...                                                  ...            ...   \n",
       "54968  Simon Sinek is an unshakable optimist who beli...    4 years ago   \n",
       "54969  Simon Sinek is an unshakable optimist who beli...    4 years ago   \n",
       "54970  Simon Sinek is an unshakable optimist who beli...    4 years ago   \n",
       "54971  Simon Sinek is an unshakable optimist who beli...    4 years ago   \n",
       "54972  Simon Sinek is an unshakable optimist who beli...    4 years ago   \n",
       "\n",
       "                                                 content  \\\n",
       "0      Add \"and what comes post crisis\" and you have ...   \n",
       "1      The weekly quick update of my highly simplifie...   \n",
       "2      Extend your conventional access control with w...   \n",
       "3      Pleased to share my annual set of predictions ...   \n",
       "4      New Integration of CLIQ® products inside Genet...   \n",
       "...                                                  ...   \n",
       "54968  Igniter of the Year 2016. Well I know that I'm...   \n",
       "54969  Executives who prioritize the shareholder are ...   \n",
       "54970  Like many, I too have been reflecting as we ne...   \n",
       "54971  If you say \"customer first\" that means your em...   \n",
       "54972  The small work hard to serve themselves in a b...   \n",
       "\n",
       "                                           content_links  \\\n",
       "0      [['https://www.linkedin.com/feed/hashtag/?keyw...   \n",
       "1      [['https://www.linkedin.com/feed/hashtag/?keyw...   \n",
       "2      [['https://lnkd.in/gqBt8k3', 'https://lnkd.in/...   \n",
       "3      [['https://www.linkedin.com/feed/hashtag/?keyw...   \n",
       "4      [['https://lnkd.in/eE5scT7', 'https://lnkd.in/...   \n",
       "...                                                  ...   \n",
       "54968                                                 []   \n",
       "54969                                                 []   \n",
       "54970                                                 []   \n",
       "54971                                                 []   \n",
       "54972                                                 []   \n",
       "\n",
       "                                              media_urls  ...  poll  text  \\\n",
       "0      ['https://media-exp1.licdn.com/dms/image/C4E22...  ...     0     0   \n",
       "1      ['https://media-exp1.licdn.com/dms/image/C4E22...  ...     0     0   \n",
       "2                                                     []  ...     0     0   \n",
       "3      ['https://www.linkedin.com/pulse/21-global-dev...  ...     0     0   \n",
       "4      ['https://www.abloy.com/en-us/news-and-media4/...  ...     0     0   \n",
       "...                                                  ...  ...   ...   ...   \n",
       "54968  ['https://media-exp1.licdn.com/dms/image/C5622...  ...     0     0   \n",
       "54969                                                 []  ...     0     0   \n",
       "54970                                                 []  ...     0     0   \n",
       "54971                                                 []  ...     0     0   \n",
       "54972                                                 []  ...     0     1   \n",
       "\n",
       "      video  achievement  call to action  info.1  insights  job opening other  \\\n",
       "0         0            0               0       0         1            0     0   \n",
       "1         0            0               0       0         1            0     0   \n",
       "2         1            1               0       0         0            0     0   \n",
       "3         0            0               0       0         1            0     0   \n",
       "4         0            0               0       0         1            0     0   \n",
       "...     ...          ...             ...     ...       ...          ...   ...   \n",
       "54968     0            1               0       0         0            0     0   \n",
       "54969     1            0               1       0         0            0     0   \n",
       "54970     1            0               0       0         1            0     0   \n",
       "54971     1            0               0       0         0            1     0   \n",
       "54972     0            0               0       0         1            0     0   \n",
       "\n",
       "          conf2  \n",
       "0      0.283271  \n",
       "1      0.299478  \n",
       "2      0.283739  \n",
       "3      0.323109  \n",
       "4      0.338060  \n",
       "...         ...  \n",
       "54968  0.356085  \n",
       "54969  0.179531  \n",
       "54970  0.290362  \n",
       "54971  0.345141  \n",
       "54972  0.357110  \n",
       "\n",
       "[54973 rows x 36 columns]"
      ]
     },
     "execution_count": 26,
     "metadata": {},
     "output_type": "execute_result"
    }
   ],
   "source": [
    "data"
   ]
  },
  {
   "cell_type": "code",
   "execution_count": 27,
   "metadata": {},
   "outputs": [],
   "source": [
    "data=data.sample(n = 5000) "
   ]
  },
  {
   "cell_type": "code",
   "execution_count": 28,
   "metadata": {},
   "outputs": [],
   "source": [
    "x_col = [ 'followers', 'article', 'document', 'image', 'poll', 'text', 'video', 'achievement', 'call to action', \n",
    "         'insights', 'job opening', 'other', 'num_hashtags', 'num_links', 'contlen' ]\n",
    "y_col = ['Impressions']"
   ]
  },
  {
   "cell_type": "code",
   "execution_count": 29,
   "metadata": {},
   "outputs": [],
   "source": [
    "X_main = data[x_col]\n",
    "y_main = data[y_col]\n",
    "y_main=y_main['Impressions']"
   ]
  },
  {
   "cell_type": "code",
   "execution_count": null,
   "metadata": {},
   "outputs": [],
   "source": []
  },
  {
   "cell_type": "code",
   "execution_count": 30,
   "metadata": {},
   "outputs": [
    {
     "name": "stdout",
     "output_type": "stream",
     "text": [
      "<class 'pandas.core.frame.DataFrame'>\n",
      "Int64Index: 5000 entries, 48450 to 42970\n",
      "Data columns (total 15 columns):\n",
      " #   Column          Non-Null Count  Dtype\n",
      "---  ------          --------------  -----\n",
      " 0   followers       5000 non-null   int64\n",
      " 1   article         5000 non-null   int64\n",
      " 2   document        5000 non-null   int64\n",
      " 3   image           5000 non-null   int64\n",
      " 4   poll            5000 non-null   int64\n",
      " 5   text            5000 non-null   int64\n",
      " 6   video           5000 non-null   int64\n",
      " 7   achievement     5000 non-null   int64\n",
      " 8   call to action  5000 non-null   int64\n",
      " 9   insights        5000 non-null   int64\n",
      " 10  job opening     5000 non-null   int64\n",
      " 11  other           5000 non-null   int64\n",
      " 12  num_hashtags    5000 non-null   int64\n",
      " 13  num_links       5000 non-null   int64\n",
      " 14  contlen         5000 non-null   int64\n",
      "dtypes: int64(15)\n",
      "memory usage: 625.0 KB\n"
     ]
    }
   ],
   "source": [
    "X_main.info()"
   ]
  },
  {
   "cell_type": "code",
   "execution_count": 31,
   "metadata": {},
   "outputs": [
    {
     "name": "stderr",
     "output_type": "stream",
     "text": [
      "/home/saman/anaconda3/lib/python3.7/site-packages/ipykernel_launcher.py:1: SettingWithCopyWarning: \n",
      "A value is trying to be set on a copy of a slice from a DataFrame.\n",
      "Try using .loc[row_indexer,col_indexer] = value instead\n",
      "\n",
      "See the caveats in the documentation: https://pandas.pydata.org/pandas-docs/stable/user_guide/indexing.html#returning-a-view-versus-a-copy\n",
      "  \"\"\"Entry point for launching an IPython kernel.\n",
      "/home/saman/anaconda3/lib/python3.7/site-packages/ipykernel_launcher.py:2: SettingWithCopyWarning: \n",
      "A value is trying to be set on a copy of a slice from a DataFrame.\n",
      "Try using .loc[row_indexer,col_indexer] = value instead\n",
      "\n",
      "See the caveats in the documentation: https://pandas.pydata.org/pandas-docs/stable/user_guide/indexing.html#returning-a-view-versus-a-copy\n",
      "  \n"
     ]
    }
   ],
   "source": [
    "X_main['num_hash_ratio']=X_main['num_hashtags']/X_main['followers']\n",
    "X_main['num_links_ratio']=X_main['num_links']/X_main['followers']"
   ]
  },
  {
   "cell_type": "code",
   "execution_count": 32,
   "metadata": {},
   "outputs": [
    {
     "data": {
      "text/plain": [
       "followers          0.755694\n",
       "article           -0.124775\n",
       "document           0.031694\n",
       "image              0.074834\n",
       "poll              -0.008378\n",
       "text              -0.021971\n",
       "video              0.077594\n",
       "achievement        0.042103\n",
       "call to action    -0.047668\n",
       "insights           0.001303\n",
       "job opening        0.009230\n",
       "other              0.027861\n",
       "num_hashtags      -0.091511\n",
       "num_links         -0.067333\n",
       "contlen           -0.055640\n",
       "num_hash_ratio    -0.071862\n",
       "num_links_ratio   -0.082303\n",
       "Impressions        1.000000\n",
       "Name: Impressions, dtype: float64"
      ]
     },
     "execution_count": 32,
     "metadata": {},
     "output_type": "execute_result"
    }
   ],
   "source": [
    "pd.concat([X_main ,y_main], axis=1).corr()['Impressions']"
   ]
  },
  {
   "cell_type": "code",
   "execution_count": 33,
   "metadata": {},
   "outputs": [
    {
     "name": "stdout",
     "output_type": "stream",
     "text": [
      "* followers\n"
     ]
    },
    {
     "data": {
      "image/png": "[encoded data removed]",
      "text/plain": [
       "<Figure size 432x288 with 1 Axes>"
      ]
     },
     "metadata": {
      "needs_background": "light"
     },
     "output_type": "display_data"
    },
    {
     "data": {
      "text/plain": [
       "<Figure size 432x288 with 0 Axes>"
      ]
     },
     "metadata": {},
     "output_type": "display_data"
    },
    {
     "name": "stdout",
     "output_type": "stream",
     "text": [
      "* article\n"
     ]
    },
    {
     "data": {
      "image/png": "[encoded data removed]",
      "text/plain": [
       "<Figure size 432x288 with 1 Axes>"
      ]
     },
     "metadata": {
      "needs_background": "light"
     },
     "output_type": "display_data"
    },
    {
     "data": {
      "text/plain": [
       "<Figure size 432x288 with 0 Axes>"
      ]
     },
     "metadata": {},
     "output_type": "display_data"
    },
    {
     "name": "stdout",
     "output_type": "stream",
     "text": [
      "* document\n"
     ]
    },
    {
     "data": {
      "image/png": "[encoded data removed]",
      "text/plain": [
       "<Figure size 432x288 with 1 Axes>"
      ]
     },
     "metadata": {
      "needs_background": "light"
     },
     "output_type": "display_data"
    },
    {
     "data": {
      "text/plain": [
       "<Figure size 432x288 with 0 Axes>"
      ]
     },
     "metadata": {},
     "output_type": "display_data"
    },
    {
     "name": "stdout",
     "output_type": "stream",
     "text": [
      "* image\n"
     ]
    },
    {
     "data": {
      "image/png": "[encoded data removed]",
      "text/plain": [
       "<Figure size 432x288 with 1 Axes>"
      ]
     },
     "metadata": {
      "needs_background": "light"
     },
     "output_type": "display_data"
    },
    {
     "data": {
      "text/plain": [
       "<Figure size 432x288 with 0 Axes>"
      ]
     },
     "metadata": {},
     "output_type": "display_data"
    },
    {
     "name": "stdout",
     "output_type": "stream",
     "text": [
      "* poll\n"
     ]
    },
    {
     "data": {
      "image/png": "[encoded data removed]",
      "text/plain": [
       "<Figure size 432x288 with 1 Axes>"
      ]
     },
     "metadata": {
      "needs_background": "light"
     },
     "output_type": "display_data"
    },
    {
     "data": {
      "text/plain": [
       "<Figure size 432x288 with 0 Axes>"
      ]
     },
     "metadata": {},
     "output_type": "display_data"
    },
    {
     "name": "stdout",
     "output_type": "stream",
     "text": [
      "* text\n"
     ]
    },
    {
     "data": {
      "image/png": "[encoded data removed]",
      "text/plain": [
       "<Figure size 432x288 with 1 Axes>"
      ]
     },
     "metadata": {
      "needs_background": "light"
     },
     "output_type": "display_data"
    },
    {
     "data": {
      "text/plain": [
       "<Figure size 432x288 with 0 Axes>"
      ]
     },
     "metadata": {},
     "output_type": "display_data"
    },
    {
     "name": "stdout",
     "output_type": "stream",
     "text": [
      "* video\n"
     ]
    },
    {
     "data": {
      "image/png": "[encoded data removed]",
      "text/plain": [
       "<Figure size 432x288 with 1 Axes>"
      ]
     },
     "metadata": {
      "needs_background": "light"
     },
     "output_type": "display_data"
    },
    {
     "data": {
      "text/plain": [
       "<Figure size 432x288 with 0 Axes>"
      ]
     },
     "metadata": {},
     "output_type": "display_data"
    },
    {
     "name": "stdout",
     "output_type": "stream",
     "text": [
      "* achievement\n"
     ]
    },
    {
     "data": {
      "image/png": "[encoded data removed]",
      "text/plain": [
       "<Figure size 432x288 with 1 Axes>"
      ]
     },
     "metadata": {
      "needs_background": "light"
     },
     "output_type": "display_data"
    },
    {
     "data": {
      "text/plain": [
       "<Figure size 432x288 with 0 Axes>"
      ]
     },
     "metadata": {},
     "output_type": "display_data"
    },
    {
     "name": "stdout",
     "output_type": "stream",
     "text": [
      "* call to action\n"
     ]
    },
    {
     "data": {
      "image/png": "[encoded data removed]",
      "text/plain": [
       "<Figure size 432x288 with 1 Axes>"
      ]
     },
     "metadata": {
      "needs_background": "light"
     },
     "output_type": "display_data"
    },
    {
     "data": {
      "text/plain": [
       "<Figure size 432x288 with 0 Axes>"
      ]
     },
     "metadata": {},
     "output_type": "display_data"
    },
    {
     "name": "stdout",
     "output_type": "stream",
     "text": [
      "* insights\n"
     ]
    },
    {
     "data": {
      "image/png": "[encoded data removed]",
      "text/plain": [
       "<Figure size 432x288 with 1 Axes>"
      ]
     },
     "metadata": {
      "needs_background": "light"
     },
     "output_type": "display_data"
    },
    {
     "data": {
      "text/plain": [
       "<Figure size 432x288 with 0 Axes>"
      ]
     },
     "metadata": {},
     "output_type": "display_data"
    },
    {
     "name": "stdout",
     "output_type": "stream",
     "text": [
      "* job opening\n"
     ]
    },
    {
     "data": {
      "image/png": "[encoded data removed]",
      "text/plain": [
       "<Figure size 432x288 with 1 Axes>"
      ]
     },
     "metadata": {
      "needs_background": "light"
     },
     "output_type": "display_data"
    },
    {
     "data": {
      "text/plain": [
       "<Figure size 432x288 with 0 Axes>"
      ]
     },
     "metadata": {},
     "output_type": "display_data"
    },
    {
     "name": "stdout",
     "output_type": "stream",
     "text": [
      "* other\n"
     ]
    },
    {
     "data": {
      "image/png": "[encoded data removed]",
      "text/plain": [
       "<Figure size 432x288 with 1 Axes>"
      ]
     },
     "metadata": {
      "needs_background": "light"
     },
     "output_type": "display_data"
    },
    {
     "data": {
      "text/plain": [
       "<Figure size 432x288 with 0 Axes>"
      ]
     },
     "metadata": {},
     "output_type": "display_data"
    },
    {
     "name": "stdout",
     "output_type": "stream",
     "text": [
      "* num_hashtags\n"
     ]
    },
    {
     "data": {
      "image/png": "[encoded data removed]",
      "text/plain": [
       "<Figure size 432x288 with 1 Axes>"
      ]
     },
     "metadata": {
      "needs_background": "light"
     },
     "output_type": "display_data"
    },
    {
     "data": {
      "text/plain": [
       "<Figure size 432x288 with 0 Axes>"
      ]
     },
     "metadata": {},
     "output_type": "display_data"
    },
    {
     "name": "stdout",
     "output_type": "stream",
     "text": [
      "* num_links\n"
     ]
    },
    {
     "data": {
      "image/png": "[encoded data removed]",
      "text/plain": [
       "<Figure size 432x288 with 1 Axes>"
      ]
     },
     "metadata": {
      "needs_background": "light"
     },
     "output_type": "display_data"
    },
    {
     "data": {
      "text/plain": [
       "<Figure size 432x288 with 0 Axes>"
      ]
     },
     "metadata": {},
     "output_type": "display_data"
    },
    {
     "name": "stdout",
     "output_type": "stream",
     "text": [
      "* contlen\n"
     ]
    },
    {
     "data": {
      "image/png": "[encoded data removed]",
      "text/plain": [
       "<Figure size 432x288 with 1 Axes>"
      ]
     },
     "metadata": {
      "needs_background": "light"
     },
     "output_type": "display_data"
    },
    {
     "data": {
      "text/plain": [
       "<Figure size 432x288 with 0 Axes>"
      ]
     },
     "metadata": {},
     "output_type": "display_data"
    },
    {
     "name": "stdout",
     "output_type": "stream",
     "text": [
      "* num_hash_ratio\n"
     ]
    },
    {
     "data": {
      "image/png": "[encoded data removed]",
      "text/plain": [
       "<Figure size 432x288 with 1 Axes>"
      ]
     },
     "metadata": {
      "needs_background": "light"
     },
     "output_type": "display_data"
    },
    {
     "data": {
      "text/plain": [
       "<Figure size 432x288 with 0 Axes>"
      ]
     },
     "metadata": {},
     "output_type": "display_data"
    },
    {
     "name": "stdout",
     "output_type": "stream",
     "text": [
      "* num_links_ratio\n"
     ]
    },
    {
     "data": {
      "image/png": "[encoded data removed]",
      "text/plain": [
       "<Figure size 432x288 with 1 Axes>"
      ]
     },
     "metadata": {
      "needs_background": "light"
     },
     "output_type": "display_data"
    },
    {
     "data": {
      "text/plain": [
       "<Figure size 432x288 with 0 Axes>"
      ]
     },
     "metadata": {},
     "output_type": "display_data"
    }
   ],
   "source": [
    "%matplotlib inline\n",
    " \n",
    "numbins = 40\n",
    "\n",
    "for i in X_main.columns:\n",
    "    print('*',i)\n",
    "    plt.hist(X_main[i], numbins, color='g')\n",
    "    plt.figure()\n",
    "    plt.show()"
   ]
  },
  {
   "cell_type": "code",
   "execution_count": 34,
   "metadata": {},
   "outputs": [
    {
     "name": "stderr",
     "output_type": "stream",
     "text": [
      "/home/saman/anaconda3/lib/python3.7/site-packages/pandas/core/indexing.py:965: SettingWithCopyWarning: \n",
      "A value is trying to be set on a copy of a slice from a DataFrame.\n",
      "Try using .loc[row_indexer,col_indexer] = value instead\n",
      "\n",
      "See the caveats in the documentation: https://pandas.pydata.org/pandas-docs/stable/user_guide/indexing.html#returning-a-view-versus-a-copy\n",
      "  self.obj[item] = s\n"
     ]
    }
   ],
   "source": [
    " \n",
    "val1=np.sqrt( X_main.loc[:,['followers']] )\n",
    "val2=np.sqrt( X_main.loc[:,['num_hashtags']] )\n",
    "val3=np.sqrt( X_main.loc[:,['num_links']] )\n",
    "val4=np.sqrt( X_main.loc[:,['contlen']] )\n",
    "val5=np.sqrt( X_main.loc[:,['num_hash_ratio']] )\n",
    "val6=np.sqrt( X_main.loc[:,['num_links_ratio']] )\n",
    "\n",
    "\n",
    "X_main.loc[:,['followers']] = val1\n",
    "X_main.loc[:,['num_hashtags']] =val2\n",
    "X_main.loc[:,['num_links']] = val3\n",
    "X_main.loc[:,['contlen']] = val4\n",
    "X_main.loc[:,['num_hash_ratio']] = val5\n",
    "X_main.loc[:,['num_links_ratio']] = val6\n"
   ]
  },
  {
   "cell_type": "code",
   "execution_count": 35,
   "metadata": {},
   "outputs": [
    {
     "name": "stdout",
     "output_type": "stream",
     "text": [
      "* followers\n"
     ]
    },
    {
     "data": {
      "image/png": "[encoded data removed]",
      "text/plain": [
       "<Figure size 432x288 with 1 Axes>"
      ]
     },
     "metadata": {
      "needs_background": "light"
     },
     "output_type": "display_data"
    },
    {
     "data": {
      "text/plain": [
       "<Figure size 432x288 with 0 Axes>"
      ]
     },
     "metadata": {},
     "output_type": "display_data"
    },
    {
     "name": "stdout",
     "output_type": "stream",
     "text": [
      "* article\n"
     ]
    },
    {
     "data": {
      "image/png": "[encoded data removed]",
      "text/plain": [
       "<Figure size 432x288 with 1 Axes>"
      ]
     },
     "metadata": {
      "needs_background": "light"
     },
     "output_type": "display_data"
    },
    {
     "data": {
      "text/plain": [
       "<Figure size 432x288 with 0 Axes>"
      ]
     },
     "metadata": {},
     "output_type": "display_data"
    },
    {
     "name": "stdout",
     "output_type": "stream",
     "text": [
      "* document\n"
     ]
    },
    {
     "data": {
      "image/png": "[encoded data removed]",
      "text/plain": [
       "<Figure size 432x288 with 1 Axes>"
      ]
     },
     "metadata": {
      "needs_background": "light"
     },
     "output_type": "display_data"
    },
    {
     "data": {
      "text/plain": [
       "<Figure size 432x288 with 0 Axes>"
      ]
     },
     "metadata": {},
     "output_type": "display_data"
    },
    {
     "name": "stdout",
     "output_type": "stream",
     "text": [
      "* image\n"
     ]
    },
    {
     "data": {
      "image/png": "[encoded data removed]",
      "text/plain": [
       "<Figure size 432x288 with 1 Axes>"
      ]
     },
     "metadata": {
      "needs_background": "light"
     },
     "output_type": "display_data"
    },
    {
     "data": {
      "text/plain": [
       "<Figure size 432x288 with 0 Axes>"
      ]
     },
     "metadata": {},
     "output_type": "display_data"
    },
    {
     "name": "stdout",
     "output_type": "stream",
     "text": [
      "* poll\n"
     ]
    },
    {
     "data": {
      "image/png": "[encoded data removed]",
      "text/plain": [
       "<Figure size 432x288 with 1 Axes>"
      ]
     },
     "metadata": {
      "needs_background": "light"
     },
     "output_type": "display_data"
    },
    {
     "data": {
      "text/plain": [
       "<Figure size 432x288 with 0 Axes>"
      ]
     },
     "metadata": {},
     "output_type": "display_data"
    },
    {
     "name": "stdout",
     "output_type": "stream",
     "text": [
      "* text\n"
     ]
    },
    {
     "data": {
      "image/png": "[encoded data removed]",
      "text/plain": [
       "<Figure size 432x288 with 1 Axes>"
      ]
     },
     "metadata": {
      "needs_background": "light"
     },
     "output_type": "display_data"
    },
    {
     "data": {
      "text/plain": [
       "<Figure size 432x288 with 0 Axes>"
      ]
     },
     "metadata": {},
     "output_type": "display_data"
    },
    {
     "name": "stdout",
     "output_type": "stream",
     "text": [
      "* video\n"
     ]
    },
    {
     "data": {
      "image/png": "[encoded data removed]",
      "text/plain": [
       "<Figure size 432x288 with 1 Axes>"
      ]
     },
     "metadata": {
      "needs_background": "light"
     },
     "output_type": "display_data"
    },
    {
     "data": {
      "text/plain": [
       "<Figure size 432x288 with 0 Axes>"
      ]
     },
     "metadata": {},
     "output_type": "display_data"
    },
    {
     "name": "stdout",
     "output_type": "stream",
     "text": [
      "* achievement\n"
     ]
    },
    {
     "data": {
      "image/png": "[encoded data removed]",
      "text/plain": [
       "<Figure size 432x288 with 1 Axes>"
      ]
     },
     "metadata": {
      "needs_background": "light"
     },
     "output_type": "display_data"
    },
    {
     "data": {
      "text/plain": [
       "<Figure size 432x288 with 0 Axes>"
      ]
     },
     "metadata": {},
     "output_type": "display_data"
    },
    {
     "name": "stdout",
     "output_type": "stream",
     "text": [
      "* call to action\n"
     ]
    },
    {
     "data": {
      "image/png": "[encoded data removed]",
      "text/plain": [
       "<Figure size 432x288 with 1 Axes>"
      ]
     },
     "metadata": {
      "needs_background": "light"
     },
     "output_type": "display_data"
    },
    {
     "data": {
      "text/plain": [
       "<Figure size 432x288 with 0 Axes>"
      ]
     },
     "metadata": {},
     "output_type": "display_data"
    },
    {
     "name": "stdout",
     "output_type": "stream",
     "text": [
      "* insights\n"
     ]
    },
    {
     "data": {
      "image/png": "[encoded data removed]",
      "text/plain": [
       "<Figure size 432x288 with 1 Axes>"
      ]
     },
     "metadata": {
      "needs_background": "light"
     },
     "output_type": "display_data"
    },
    {
     "data": {
      "text/plain": [
       "<Figure size 432x288 with 0 Axes>"
      ]
     },
     "metadata": {},
     "output_type": "display_data"
    },
    {
     "name": "stdout",
     "output_type": "stream",
     "text": [
      "* job opening\n"
     ]
    },
    {
     "data": {
      "image/png": "[encoded data removed]",
      "text/plain": [
       "<Figure size 432x288 with 1 Axes>"
      ]
     },
     "metadata": {
      "needs_background": "light"
     },
     "output_type": "display_data"
    },
    {
     "data": {
      "text/plain": [
       "<Figure size 432x288 with 0 Axes>"
      ]
     },
     "metadata": {},
     "output_type": "display_data"
    },
    {
     "name": "stdout",
     "output_type": "stream",
     "text": [
      "* other\n"
     ]
    },
    {
     "data": {
      "image/png": "[encoded data removed]",
      "text/plain": [
       "<Figure size 432x288 with 1 Axes>"
      ]
     },
     "metadata": {
      "needs_background": "light"
     },
     "output_type": "display_data"
    },
    {
     "data": {
      "text/plain": [
       "<Figure size 432x288 with 0 Axes>"
      ]
     },
     "metadata": {},
     "output_type": "display_data"
    },
    {
     "name": "stdout",
     "output_type": "stream",
     "text": [
      "* num_hashtags\n"
     ]
    },
    {
     "data": {
      "image/png": "[encoded data removed]",
      "text/plain": [
       "<Figure size 432x288 with 1 Axes>"
      ]
     },
     "metadata": {
      "needs_background": "light"
     },
     "output_type": "display_data"
    },
    {
     "data": {
      "text/plain": [
       "<Figure size 432x288 with 0 Axes>"
      ]
     },
     "metadata": {},
     "output_type": "display_data"
    },
    {
     "name": "stdout",
     "output_type": "stream",
     "text": [
      "* num_links\n"
     ]
    },
    {
     "data": {
      "image/png": "[encoded data removed]",
      "text/plain": [
       "<Figure size 432x288 with 1 Axes>"
      ]
     },
     "metadata": {
      "needs_background": "light"
     },
     "output_type": "display_data"
    },
    {
     "data": {
      "text/plain": [
       "<Figure size 432x288 with 0 Axes>"
      ]
     },
     "metadata": {},
     "output_type": "display_data"
    },
    {
     "name": "stdout",
     "output_type": "stream",
     "text": [
      "* contlen\n"
     ]
    },
    {
     "data": {
      "image/png": "[encoded data removed]",
      "text/plain": [
       "<Figure size 432x288 with 1 Axes>"
      ]
     },
     "metadata": {
      "needs_background": "light"
     },
     "output_type": "display_data"
    },
    {
     "data": {
      "text/plain": [
       "<Figure size 432x288 with 0 Axes>"
      ]
     },
     "metadata": {},
     "output_type": "display_data"
    },
    {
     "name": "stdout",
     "output_type": "stream",
     "text": [
      "* num_hash_ratio\n"
     ]
    },
    {
     "data": {
      "image/png": "[encoded data removed]",
      "text/plain": [
       "<Figure size 432x288 with 1 Axes>"
      ]
     },
     "metadata": {
      "needs_background": "light"
     },
     "output_type": "display_data"
    },
    {
     "data": {
      "text/plain": [
       "<Figure size 432x288 with 0 Axes>"
      ]
     },
     "metadata": {},
     "output_type": "display_data"
    },
    {
     "name": "stdout",
     "output_type": "stream",
     "text": [
      "* num_links_ratio\n"
     ]
    },
    {
     "data": {
      "image/png": "[encoded data removed]",
      "text/plain": [
       "<Figure size 432x288 with 1 Axes>"
      ]
     },
     "metadata": {
      "needs_background": "light"
     },
     "output_type": "display_data"
    },
    {
     "data": {
      "text/plain": [
       "<Figure size 432x288 with 0 Axes>"
      ]
     },
     "metadata": {},
     "output_type": "display_data"
    }
   ],
   "source": [
    "numbins = 40\n",
    "\n",
    "for i in X_main.columns:\n",
    "    print('*',i)\n",
    "    plt.hist(X_main[i], numbins, color='g')\n",
    "    plt.figure()\n",
    "    plt.show()"
   ]
  },
  {
   "cell_type": "code",
   "execution_count": 36,
   "metadata": {},
   "outputs": [
    {
     "data": {
      "text/plain": [
       "(array([4.763e+03, 1.870e+02, 2.600e+01, 1.200e+01, 5.000e+00, 3.000e+00,\n",
       "        2.000e+00, 0.000e+00, 0.000e+00, 2.000e+00]),\n",
       " array([5.63600000e+01, 2.52581426e+05, 5.05106492e+05, 7.57631558e+05,\n",
       "        1.01015662e+06, 1.26268169e+06, 1.51520676e+06, 1.76773182e+06,\n",
       "        2.02025689e+06, 2.27278195e+06, 2.52530702e+06]),\n",
       " <a list of 10 Patch objects>)"
      ]
     },
     "execution_count": 36,
     "metadata": {},
     "output_type": "execute_result"
    },
    {
     "data": {
      "image/png": "[encoded data removed]",
      "text/plain": [
       "<Figure size 432x288 with 1 Axes>"
      ]
     },
     "metadata": {
      "needs_background": "light"
     },
     "output_type": "display_data"
    }
   ],
   "source": [
    "plt.hist(y_main  , color='g' )"
   ]
  },
  {
   "cell_type": "code",
   "execution_count": 37,
   "metadata": {},
   "outputs": [
    {
     "data": {
      "text/plain": [
       "(array([  20.,   88.,  139.,  449., 1193., 1269., 1239.,  431.,  152.,\n",
       "          20.]),\n",
       " array([ 4.03175969,  5.10277104,  6.17378239,  7.24479374,  8.31580509,\n",
       "         9.38681645, 10.4578278 , 11.52883915, 12.5998505 , 13.67086185,\n",
       "        14.74187321]),\n",
       " <a list of 10 Patch objects>)"
      ]
     },
     "execution_count": 37,
     "metadata": {},
     "output_type": "execute_result"
    },
    {
     "data": {
      "image/png": "[encoded data removed]",
      "text/plain": [
       "<Figure size 432x288 with 1 Axes>"
      ]
     },
     "metadata": {
      "needs_background": "light"
     },
     "output_type": "display_data"
    }
   ],
   "source": [
    "plt.hist(np.log(y_main)  , color='g')\n",
    " "
   ]
  },
  {
   "cell_type": "code",
   "execution_count": 38,
   "metadata": {},
   "outputs": [],
   "source": [
    "y_main=np.log(y_main) "
   ]
  },
  {
   "cell_type": "code",
   "execution_count": null,
   "metadata": {},
   "outputs": [],
   "source": []
  },
  {
   "cell_type": "code",
   "execution_count": 39,
   "metadata": {},
   "outputs": [],
   "source": [
    "from sklearn.model_selection import train_test_split\n",
    "X, X_finaltest, y, y_finaltest = train_test_split(X_main, y_main, test_size=0.25, random_state=42)"
   ]
  },
  {
   "cell_type": "code",
   "execution_count": 40,
   "metadata": {},
   "outputs": [
    {
     "data": {
      "text/plain": [
       "(3750, 17)"
      ]
     },
     "execution_count": 40,
     "metadata": {},
     "output_type": "execute_result"
    }
   ],
   "source": [
    "X.shape"
   ]
  },
  {
   "cell_type": "code",
   "execution_count": 41,
   "metadata": {},
   "outputs": [],
   "source": [
    "from sklearn.model_selection import train_test_split\n",
    "X_train, X_test, y_train, y_test = train_test_split(X, y, test_size=0.2, random_state=42)"
   ]
  },
  {
   "cell_type": "code",
   "execution_count": 42,
   "metadata": {},
   "outputs": [
    {
     "data": {
      "text/plain": [
       "followers          0.842152\n",
       "article           -0.237672\n",
       "document           0.064838\n",
       "image              0.111434\n",
       "poll              -0.000025\n",
       "text              -0.081934\n",
       "video              0.217163\n",
       "achievement        0.019987\n",
       "call to action    -0.075106\n",
       "insights           0.046624\n",
       "job opening        0.010705\n",
       "other             -0.026242\n",
       "num_hashtags      -0.004194\n",
       "num_links          0.064039\n",
       "contlen            0.010091\n",
       "num_hash_ratio    -0.385703\n",
       "num_links_ratio   -0.483142\n",
       "Impressions        1.000000\n",
       "Name: Impressions, dtype: float64"
      ]
     },
     "execution_count": 42,
     "metadata": {},
     "output_type": "execute_result"
    }
   ],
   "source": [
    "pd.concat([X  ,y ], axis=1).corr()['Impressions']"
   ]
  },
  {
   "cell_type": "code",
   "execution_count": 43,
   "metadata": {},
   "outputs": [
    {
     "data": {
      "text/html": [
       "<div>\n",
       "<style scoped>\n",
       "    .dataframe tbody tr th:only-of-type {\n",
       "        vertical-align: middle;\n",
       "    }\n",
       "\n",
       "    .dataframe tbody tr th {\n",
       "        vertical-align: top;\n",
       "    }\n",
       "\n",
       "    .dataframe thead th {\n",
       "        text-align: right;\n",
       "    }\n",
       "</style>\n",
       "<table border=\"1\" class=\"dataframe\">\n",
       "  <thead>\n",
       "    <tr style=\"text-align: right;\">\n",
       "      <th></th>\n",
       "      <th>followers</th>\n",
       "      <th>article</th>\n",
       "      <th>document</th>\n",
       "      <th>image</th>\n",
       "      <th>poll</th>\n",
       "      <th>text</th>\n",
       "      <th>video</th>\n",
       "      <th>achievement</th>\n",
       "      <th>call to action</th>\n",
       "      <th>insights</th>\n",
       "      <th>job opening</th>\n",
       "      <th>other</th>\n",
       "      <th>num_hashtags</th>\n",
       "      <th>num_links</th>\n",
       "      <th>contlen</th>\n",
       "      <th>num_hash_ratio</th>\n",
       "      <th>num_links_ratio</th>\n",
       "      <th>Impressions</th>\n",
       "    </tr>\n",
       "  </thead>\n",
       "  <tbody>\n",
       "    <tr>\n",
       "      <th>43865</th>\n",
       "      <td>513.172486</td>\n",
       "      <td>1</td>\n",
       "      <td>0</td>\n",
       "      <td>0</td>\n",
       "      <td>0</td>\n",
       "      <td>0</td>\n",
       "      <td>0</td>\n",
       "      <td>0</td>\n",
       "      <td>0</td>\n",
       "      <td>1</td>\n",
       "      <td>0</td>\n",
       "      <td>0</td>\n",
       "      <td>0.000000</td>\n",
       "      <td>0.000000</td>\n",
       "      <td>12.649111</td>\n",
       "      <td>0.000000</td>\n",
       "      <td>0.000000</td>\n",
       "      <td>9.854661</td>\n",
       "    </tr>\n",
       "    <tr>\n",
       "      <th>22409</th>\n",
       "      <td>1811.660288</td>\n",
       "      <td>0</td>\n",
       "      <td>0</td>\n",
       "      <td>1</td>\n",
       "      <td>0</td>\n",
       "      <td>0</td>\n",
       "      <td>0</td>\n",
       "      <td>0</td>\n",
       "      <td>0</td>\n",
       "      <td>1</td>\n",
       "      <td>0</td>\n",
       "      <td>0</td>\n",
       "      <td>1.000000</td>\n",
       "      <td>1.732051</td>\n",
       "      <td>19.364917</td>\n",
       "      <td>0.000552</td>\n",
       "      <td>0.000956</td>\n",
       "      <td>11.315599</td>\n",
       "    </tr>\n",
       "    <tr>\n",
       "      <th>2127</th>\n",
       "      <td>813.463582</td>\n",
       "      <td>0</td>\n",
       "      <td>0</td>\n",
       "      <td>0</td>\n",
       "      <td>0</td>\n",
       "      <td>0</td>\n",
       "      <td>1</td>\n",
       "      <td>0</td>\n",
       "      <td>0</td>\n",
       "      <td>1</td>\n",
       "      <td>0</td>\n",
       "      <td>0</td>\n",
       "      <td>3.000000</td>\n",
       "      <td>3.316625</td>\n",
       "      <td>19.493589</td>\n",
       "      <td>0.003688</td>\n",
       "      <td>0.004077</td>\n",
       "      <td>9.799485</td>\n",
       "    </tr>\n",
       "    <tr>\n",
       "      <th>45289</th>\n",
       "      <td>1932.146992</td>\n",
       "      <td>0</td>\n",
       "      <td>0</td>\n",
       "      <td>0</td>\n",
       "      <td>0</td>\n",
       "      <td>1</td>\n",
       "      <td>0</td>\n",
       "      <td>0</td>\n",
       "      <td>0</td>\n",
       "      <td>1</td>\n",
       "      <td>0</td>\n",
       "      <td>0</td>\n",
       "      <td>0.000000</td>\n",
       "      <td>0.000000</td>\n",
       "      <td>12.688578</td>\n",
       "      <td>0.000000</td>\n",
       "      <td>0.000000</td>\n",
       "      <td>11.281042</td>\n",
       "    </tr>\n",
       "    <tr>\n",
       "      <th>3712</th>\n",
       "      <td>73.878278</td>\n",
       "      <td>1</td>\n",
       "      <td>0</td>\n",
       "      <td>0</td>\n",
       "      <td>0</td>\n",
       "      <td>0</td>\n",
       "      <td>0</td>\n",
       "      <td>0</td>\n",
       "      <td>0</td>\n",
       "      <td>1</td>\n",
       "      <td>0</td>\n",
       "      <td>0</td>\n",
       "      <td>2.645751</td>\n",
       "      <td>2.828427</td>\n",
       "      <td>18.734994</td>\n",
       "      <td>0.035812</td>\n",
       "      <td>0.038285</td>\n",
       "      <td>6.801461</td>\n",
       "    </tr>\n",
       "    <tr>\n",
       "      <th>...</th>\n",
       "      <td>...</td>\n",
       "      <td>...</td>\n",
       "      <td>...</td>\n",
       "      <td>...</td>\n",
       "      <td>...</td>\n",
       "      <td>...</td>\n",
       "      <td>...</td>\n",
       "      <td>...</td>\n",
       "      <td>...</td>\n",
       "      <td>...</td>\n",
       "      <td>...</td>\n",
       "      <td>...</td>\n",
       "      <td>...</td>\n",
       "      <td>...</td>\n",
       "      <td>...</td>\n",
       "      <td>...</td>\n",
       "      <td>...</td>\n",
       "      <td>...</td>\n",
       "    </tr>\n",
       "    <tr>\n",
       "      <th>26217</th>\n",
       "      <td>1000.439903</td>\n",
       "      <td>1</td>\n",
       "      <td>0</td>\n",
       "      <td>0</td>\n",
       "      <td>0</td>\n",
       "      <td>0</td>\n",
       "      <td>0</td>\n",
       "      <td>0</td>\n",
       "      <td>0</td>\n",
       "      <td>0</td>\n",
       "      <td>1</td>\n",
       "      <td>0</td>\n",
       "      <td>1.000000</td>\n",
       "      <td>1.414214</td>\n",
       "      <td>13.674794</td>\n",
       "      <td>0.001000</td>\n",
       "      <td>0.001414</td>\n",
       "      <td>10.369031</td>\n",
       "    </tr>\n",
       "    <tr>\n",
       "      <th>23192</th>\n",
       "      <td>1896.798619</td>\n",
       "      <td>0</td>\n",
       "      <td>0</td>\n",
       "      <td>0</td>\n",
       "      <td>0</td>\n",
       "      <td>0</td>\n",
       "      <td>1</td>\n",
       "      <td>0</td>\n",
       "      <td>0</td>\n",
       "      <td>1</td>\n",
       "      <td>0</td>\n",
       "      <td>0</td>\n",
       "      <td>1.000000</td>\n",
       "      <td>1.414214</td>\n",
       "      <td>10.816654</td>\n",
       "      <td>0.000527</td>\n",
       "      <td>0.000746</td>\n",
       "      <td>11.850446</td>\n",
       "    </tr>\n",
       "    <tr>\n",
       "      <th>3466</th>\n",
       "      <td>366.475101</td>\n",
       "      <td>1</td>\n",
       "      <td>0</td>\n",
       "      <td>0</td>\n",
       "      <td>0</td>\n",
       "      <td>0</td>\n",
       "      <td>0</td>\n",
       "      <td>0</td>\n",
       "      <td>0</td>\n",
       "      <td>1</td>\n",
       "      <td>0</td>\n",
       "      <td>0</td>\n",
       "      <td>2.645751</td>\n",
       "      <td>3.000000</td>\n",
       "      <td>26.551836</td>\n",
       "      <td>0.007219</td>\n",
       "      <td>0.008186</td>\n",
       "      <td>8.118529</td>\n",
       "    </tr>\n",
       "    <tr>\n",
       "      <th>8177</th>\n",
       "      <td>1575.072697</td>\n",
       "      <td>0</td>\n",
       "      <td>0</td>\n",
       "      <td>0</td>\n",
       "      <td>0</td>\n",
       "      <td>0</td>\n",
       "      <td>1</td>\n",
       "      <td>1</td>\n",
       "      <td>0</td>\n",
       "      <td>0</td>\n",
       "      <td>0</td>\n",
       "      <td>0</td>\n",
       "      <td>2.000000</td>\n",
       "      <td>2.236068</td>\n",
       "      <td>16.881943</td>\n",
       "      <td>0.001270</td>\n",
       "      <td>0.001420</td>\n",
       "      <td>10.936086</td>\n",
       "    </tr>\n",
       "    <tr>\n",
       "      <th>30081</th>\n",
       "      <td>976.646814</td>\n",
       "      <td>0</td>\n",
       "      <td>0</td>\n",
       "      <td>0</td>\n",
       "      <td>0</td>\n",
       "      <td>0</td>\n",
       "      <td>1</td>\n",
       "      <td>0</td>\n",
       "      <td>0</td>\n",
       "      <td>1</td>\n",
       "      <td>0</td>\n",
       "      <td>0</td>\n",
       "      <td>0.000000</td>\n",
       "      <td>1.732051</td>\n",
       "      <td>22.135944</td>\n",
       "      <td>0.000000</td>\n",
       "      <td>0.001773</td>\n",
       "      <td>9.953552</td>\n",
       "    </tr>\n",
       "  </tbody>\n",
       "</table>\n",
       "<p>3750 rows × 18 columns</p>\n",
       "</div>"
      ],
      "text/plain": [
       "         followers  article  document  image  poll  text  video  achievement  \\\n",
       "43865   513.172486        1         0      0     0     0      0            0   \n",
       "22409  1811.660288        0         0      1     0     0      0            0   \n",
       "2127    813.463582        0         0      0     0     0      1            0   \n",
       "45289  1932.146992        0         0      0     0     1      0            0   \n",
       "3712     73.878278        1         0      0     0     0      0            0   \n",
       "...            ...      ...       ...    ...   ...   ...    ...          ...   \n",
       "26217  1000.439903        1         0      0     0     0      0            0   \n",
       "23192  1896.798619        0         0      0     0     0      1            0   \n",
       "3466    366.475101        1         0      0     0     0      0            0   \n",
       "8177   1575.072697        0         0      0     0     0      1            1   \n",
       "30081   976.646814        0         0      0     0     0      1            0   \n",
       "\n",
       "       call to action  insights  job opening  other  num_hashtags  num_links  \\\n",
       "43865               0         1            0      0      0.000000   0.000000   \n",
       "22409               0         1            0      0      1.000000   1.732051   \n",
       "2127                0         1            0      0      3.000000   3.316625   \n",
       "45289               0         1            0      0      0.000000   0.000000   \n",
       "3712                0         1            0      0      2.645751   2.828427   \n",
       "...               ...       ...          ...    ...           ...        ...   \n",
       "26217               0         0            1      0      1.000000   1.414214   \n",
       "23192               0         1            0      0      1.000000   1.414214   \n",
       "3466                0         1            0      0      2.645751   3.000000   \n",
       "8177                0         0            0      0      2.000000   2.236068   \n",
       "30081               0         1            0      0      0.000000   1.732051   \n",
       "\n",
       "         contlen  num_hash_ratio  num_links_ratio  Impressions  \n",
       "43865  12.649111        0.000000         0.000000     9.854661  \n",
       "22409  19.364917        0.000552         0.000956    11.315599  \n",
       "2127   19.493589        0.003688         0.004077     9.799485  \n",
       "45289  12.688578        0.000000         0.000000    11.281042  \n",
       "3712   18.734994        0.035812         0.038285     6.801461  \n",
       "...          ...             ...              ...          ...  \n",
       "26217  13.674794        0.001000         0.001414    10.369031  \n",
       "23192  10.816654        0.000527         0.000746    11.850446  \n",
       "3466   26.551836        0.007219         0.008186     8.118529  \n",
       "8177   16.881943        0.001270         0.001420    10.936086  \n",
       "30081  22.135944        0.000000         0.001773     9.953552  \n",
       "\n",
       "[3750 rows x 18 columns]"
      ]
     },
     "execution_count": 43,
     "metadata": {},
     "output_type": "execute_result"
    }
   ],
   "source": [
    "pd.concat([X  ,y ], axis=1)"
   ]
  },
  {
   "cell_type": "code",
   "execution_count": 44,
   "metadata": {},
   "outputs": [],
   "source": [
    "dataexport=pd.concat([X_main  ,y_main ], axis=1)\n",
    "dataexport.to_csv('smalldata.csv',index=False)"
   ]
  },
  {
   "cell_type": "code",
   "execution_count": 70,
   "metadata": {},
   "outputs": [],
   "source": [
    "# MODEL 1"
   ]
  },
  {
   "cell_type": "code",
   "execution_count": 71,
   "metadata": {},
   "outputs": [
    {
     "name": "stdout",
     "output_type": "stream",
     "text": [
      "{'n_neighbors': 8}\n",
      "0.9250754967724975\n"
     ]
    }
   ],
   "source": [
    "from sklearn.model_selection import RandomizedSearchCV\n",
    "param_dist =  {\n",
    "        'n_neighbors': [  3,4,5,6,7,8,9,10,14,15,16,17,18,19,20,21,22,23,24,25,26,27,28,29,30,31 ,32,35,37,40  ]\n",
    "    }\n",
    "from sklearn.neighbors import KNeighborsRegressor\n",
    "model = KNeighborsRegressor()\n",
    "model_best = RandomizedSearchCV(model, param_dist )\n",
    "\n",
    " \n",
    "model_best.fit( X , y )\n",
    "print(model_best.best_params_ )\n",
    "print(model_best.best_score_ )"
   ]
  },
  {
   "cell_type": "code",
   "execution_count": 72,
   "metadata": {},
   "outputs": [
    {
     "name": "stdout",
     "output_type": "stream",
     "text": [
      "r2 score: 0.9312761496705525\n",
      "mse:  0.17174080467579642\n"
     ]
    },
    {
     "data": {
      "image/png": "[encoded data removed]",
      "text/plain": [
       "<Figure size 432x288 with 1 Axes>"
      ]
     },
     "metadata": {
      "needs_background": "light"
     },
     "output_type": "display_data"
    }
   ],
   "source": [
    "from sklearn.neighbors import KNeighborsRegressor\n",
    "classifier1 = KNeighborsRegressor(n_neighbors =  8)\n",
    "classifier1.fit(X_train, y_train)\n",
    "y_pred = classifier1.predict(X_test)\n",
    "\n",
    " \n",
    "plt.scatter(y_test, y_pred)\n",
    "from sklearn.metrics import r2_score\n",
    "print(\"r2 score:\" ,r2_score(y_test, y_pred))\n",
    "from sklearn.metrics import mean_squared_error\n",
    "print(\"mse: \",mean_squared_error(y_test, y_pred))"
   ]
  },
  {
   "cell_type": "code",
   "execution_count": null,
   "metadata": {},
   "outputs": [],
   "source": [
    " "
   ]
  },
  {
   "cell_type": "code",
   "execution_count": 73,
   "metadata": {},
   "outputs": [],
   "source": [
    "# model 2"
   ]
  },
  {
   "cell_type": "code",
   "execution_count": 74,
   "metadata": {},
   "outputs": [
    {
     "name": "stdout",
     "output_type": "stream",
     "text": [
      "{'subsample': 0.95, 'n_estimators': 200, 'min_child_weight': 1, 'max_depth': 4, 'learning_rate': 0.04, 'colsample_bytree': 1}\n",
      "0.9277012499273869\n"
     ]
    }
   ],
   "source": [
    "from sklearn.model_selection import RandomizedSearchCV\n",
    "import xgboost\n",
    "model = xgboost.XGBRegressor()\n",
    "param_dist = {'n_estimators':  [50,60,70,80,90,100,110,120,200,300],\n",
    "              'learning_rate':  [0.003,0.006,0.008,0.01,0.04,0.07,0.09,0.1,0.12,0.2,0.3],\n",
    "              'subsample':  [ 0.8,0.85,0.9,0.95,1],\n",
    "              'max_depth': [3, 4, 5, 6, 7, 8, 9],\n",
    "              'colsample_bytree': [0.6,0.65,0.7,0.75,0.8,0.9,1],\n",
    "              'min_child_weight': [1,2,3,4,5,6,7]\n",
    "             }\n",
    "model_best = RandomizedSearchCV(model, param_distributions = param_dist, n_iter = 100 )\n",
    "model_best.fit( X,y )\n",
    "\n",
    "print(model_best.best_params_ )\n",
    "print(model_best.best_score_ )"
   ]
  },
  {
   "cell_type": "code",
   "execution_count": 75,
   "metadata": {},
   "outputs": [
    {
     "name": "stdout",
     "output_type": "stream",
     "text": [
      "r2 score: 0.9321583946217389\n",
      "mse:  0.1695360757918417\n"
     ]
    },
    {
     "data": {
      "image/png": "[encoded data removed]",
      "text/plain": [
       "<Figure size 432x288 with 1 Axes>"
      ]
     },
     "metadata": {
      "needs_background": "light"
     },
     "output_type": "display_data"
    }
   ],
   "source": [
    "import xgboost\n",
    "classifier2 = xgboost.XGBRegressor( n_estimators=200, learning_rate=0.04, subsample=0.95, max_depth=4, colsample_bytree=1 , min_child_weight=2)\n",
    "classifier2.fit(X_train, y_train)\n",
    "y_pred = classifier2.predict(X_test)\n",
    "\n",
    "plt.scatter(y_test, y_pred)\n",
    "from sklearn.metrics import r2_score\n",
    "print(\"r2 score:\" ,r2_score(y_test, y_pred))\n",
    "from sklearn.metrics import mean_squared_error\n",
    "print(\"mse: \",mean_squared_error(y_test, y_pred))"
   ]
  },
  {
   "cell_type": "code",
   "execution_count": null,
   "metadata": {},
   "outputs": [],
   "source": []
  },
  {
   "cell_type": "code",
   "execution_count": null,
   "metadata": {},
   "outputs": [],
   "source": []
  },
  {
   "cell_type": "code",
   "execution_count": null,
   "metadata": {},
   "outputs": [],
   "source": [
    "# model 3"
   ]
  },
  {
   "cell_type": "code",
   "execution_count": 76,
   "metadata": {},
   "outputs": [
    {
     "name": "stdout",
     "output_type": "stream",
     "text": [
      "{'n_estimators': 600, 'min_samples_split': 10, 'min_samples_leaf': 2, 'max_features': 'auto', 'max_depth': 30, 'bootstrap': True}\n",
      "0.930581130336804\n"
     ]
    }
   ],
   "source": [
    "from sklearn.model_selection import RandomizedSearchCV\n",
    "from sklearn.ensemble import RandomForestRegressor\n",
    "model = RandomForestRegressor()\n",
    "param_dist = {'bootstrap': [True, False],\n",
    "               'max_depth': [2,3, 4, 5, 6, 7, 8, 9,10, 20, 30, 40, 50, 60, 70, 80, 90, 100, 110, None],\n",
    "               'max_features': ['auto', 'sqrt'],\n",
    "               'min_samples_leaf': [1, 2,3, 4],\n",
    "               'min_samples_split': [2, 5, 10,12,14,16,18,20,22,24],\n",
    "               'n_estimators':  [70,80,85,90,95,100,110,120,200,300,400,500,600,700,800]\n",
    "             }\n",
    "model_best = RandomizedSearchCV(model, param_distributions = param_dist, n_iter = 100 )\n",
    "model_best.fit( X,y )\n",
    "\n",
    "print(model_best.best_params_ )\n",
    "print(model_best.best_score_ )"
   ]
  },
  {
   "cell_type": "code",
   "execution_count": 77,
   "metadata": {},
   "outputs": [
    {
     "name": "stdout",
     "output_type": "stream",
     "text": [
      "r2 score: 0.9333749723182774\n",
      "mse:  0.1664958498505921\n"
     ]
    },
    {
     "data": {
      "image/png": "[encoded data removed]",
      "text/plain": [
       "<Figure size 432x288 with 1 Axes>"
      ]
     },
     "metadata": {
      "needs_background": "light"
     },
     "output_type": "display_data"
    }
   ],
   "source": [
    "from sklearn.model_selection import RandomizedSearchCV\n",
    "from sklearn.ensemble import RandomForestRegressor\n",
    "classifier = RandomForestRegressor(n_estimators=600,min_samples_split=10,min_samples_leaf=2,max_features='auto',max_depth=30,bootstrap=True)\n",
    "classifier.fit(X_train, y_train)\n",
    "y_pred = classifier.predict(X_test)\n",
    "\n",
    "plt.scatter(y_test, y_pred)\n",
    "from sklearn.metrics import r2_score\n",
    "print(\"r2 score:\" ,r2_score(y_test, y_pred))\n",
    "from sklearn.metrics import mean_squared_error\n",
    "print(\"mse: \",mean_squared_error(y_test, y_pred))"
   ]
  },
  {
   "cell_type": "code",
   "execution_count": null,
   "metadata": {},
   "outputs": [],
   "source": []
  },
  {
   "cell_type": "code",
   "execution_count": 78,
   "metadata": {},
   "outputs": [],
   "source": [
    "#\n",
    "m1 = KNeighborsRegressor(n_neighbors = 8)\n",
    "m2 = xgboost.XGBRegressor( n_estimators=200, learning_rate=0.04, subsample=0.95, max_depth=4, colsample_bytree=1 , min_child_weight=2)\n",
    "m3 = RandomForestRegressor(n_estimators=600,min_samples_split=10,min_samples_leaf=2,max_features='auto',max_depth=30,bootstrap=True)"
   ]
  },
  {
   "cell_type": "code",
   "execution_count": 79,
   "metadata": {},
   "outputs": [
    {
     "name": "stdout",
     "output_type": "stream",
     "text": [
      "r2 score: 0.93560694767033\n",
      "mse:  0.16091814660578674\n"
     ]
    },
    {
     "data": {
      "image/png": "[encoded data removed]",
      "text/plain": [
       "<Figure size 432x288 with 1 Axes>"
      ]
     },
     "metadata": {
      "needs_background": "light"
     },
     "output_type": "display_data"
    }
   ],
   "source": [
    "from sklearn.ensemble import VotingRegressor\n",
    "\n",
    "# Voting Classifier with hard voting\n",
    "vot  = VotingRegressor(estimators=[  ('m1', m1), ('m2', m2) ,('m3', m3) ], weights=[3,4,5], n_jobs=-1)\n",
    "vot.fit(X_train, y_train)\n",
    "y_pred = vot.predict(X_test)\n",
    "\n",
    "plt.scatter(y_test, y_pred)\n",
    "from sklearn.metrics import r2_score\n",
    "print(\"r2 score:\" ,r2_score(y_test, y_pred))\n",
    "from sklearn.metrics import mean_squared_error\n",
    "print(\"mse: \",mean_squared_error(y_test, y_pred))"
   ]
  },
  {
   "cell_type": "code",
   "execution_count": null,
   "metadata": {},
   "outputs": [],
   "source": []
  },
  {
   "cell_type": "code",
   "execution_count": 80,
   "metadata": {},
   "outputs": [],
   "source": [
    "# Final Testing"
   ]
  },
  {
   "cell_type": "code",
   "execution_count": 83,
   "metadata": {},
   "outputs": [],
   "source": [
    "from sklearn.ensemble import VotingRegressor\n",
    "y_pred = vot.predict(X_finaltest)"
   ]
  },
  {
   "cell_type": "code",
   "execution_count": 85,
   "metadata": {},
   "outputs": [
    {
     "data": {
      "image/png": "[encoded data removed]",
      "text/plain": [
       "<Figure size 432x288 with 1 Axes>"
      ]
     },
     "metadata": {
      "needs_background": "light"
     },
     "output_type": "display_data"
    },
    {
     "data": {
      "text/plain": [
       "<Figure size 432x288 with 0 Axes>"
      ]
     },
     "metadata": {},
     "output_type": "display_data"
    },
    {
     "data": {
      "image/png": "[encoded data removed]",
      "text/plain": [
       "<Figure size 432x288 with 1 Axes>"
      ]
     },
     "metadata": {
      "needs_background": "light"
     },
     "output_type": "display_data"
    },
    {
     "data": {
      "text/plain": [
       "<Figure size 432x288 with 0 Axes>"
      ]
     },
     "metadata": {},
     "output_type": "display_data"
    }
   ],
   "source": [
    "plt.hist(y_finaltest  , color='g' )\n",
    "plt.figure()\n",
    "plt.show()\n",
    "plt.hist(y_pred  , color='g' )\n",
    "plt.figure()\n",
    "plt.show()"
   ]
  },
  {
   "cell_type": "code",
   "execution_count": 86,
   "metadata": {},
   "outputs": [
    {
     "name": "stdout",
     "output_type": "stream",
     "text": [
      "5.18705055411945\n",
      "13.67092055222576\n",
      "9.911946395470508\n"
     ]
    }
   ],
   "source": [
    "print(y_finaltest.min())\n",
    "print(y_finaltest.max())\n",
    "print(y_finaltest.mean())"
   ]
  },
  {
   "cell_type": "code",
   "execution_count": 87,
   "metadata": {},
   "outputs": [
    {
     "name": "stdout",
     "output_type": "stream",
     "text": [
      "r2 score: 0.9379871251210998\n",
      "mse:  0.15636265571710295\n"
     ]
    },
    {
     "data": {
      "image/png": "[encoded data removed]",
      "text/plain": [
       "<Figure size 432x288 with 1 Axes>"
      ]
     },
     "metadata": {
      "needs_background": "light"
     },
     "output_type": "display_data"
    }
   ],
   "source": [
    "plt.scatter(y_finaltest, y_pred)\n",
    "from sklearn.metrics import r2_score\n",
    "print(\"r2 score:\" ,r2_score(y_finaltest, y_pred))\n",
    "from sklearn.metrics import mean_squared_error\n",
    "print(\"mse: \",mean_squared_error(y_finaltest, y_pred))"
   ]
  },
  {
   "cell_type": "code",
   "execution_count": 130,
   "metadata": {},
   "outputs": [],
   "source": [
    "# Final mse error is 0.156\n",
    "# Final r2 score is 0.9379"
   ]
  },
  {
   "cell_type": "code",
   "execution_count": null,
   "metadata": {},
   "outputs": [],
   "source": [
    " "
   ]
  },
  {
   "cell_type": "code",
   "execution_count": null,
   "metadata": {},
   "outputs": [],
   "source": []
  }
 ],
 "metadata": {
  "kernelspec": {
   "display_name": "Python 3",
   "language": "python",
   "name": "python3"
  },
  "language_info": {
   "codemirror_mode": {
    "name": "ipython",
    "version": 3
   },
   "file_extension": ".py",
   "mimetype": "text/x-python",
   "name": "python",
   "nbconvert_exporter": "python",
   "pygments_lexer": "ipython3",
   "version": "3.7.6"
  }
 },
 "nbformat": 4,
 "nbformat_minor": 4
}
